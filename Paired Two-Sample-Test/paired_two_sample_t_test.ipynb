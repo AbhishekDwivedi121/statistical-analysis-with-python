{
 "cells": [
  {
   "cell_type": "markdown",
   "id": "ed7f0dc1",
   "metadata": {},
   "source": [
    "## Paired t-test\n",
    "\n",
    "A **Paired t-test** is used when the same subjects are measured twice — for example, *before and after* an intervention — to test if the mean difference is significant.\n",
    "\n",
    "### Formula\n",
    "\n",
    "Let each pair difference be:\n",
    "\n",
    "$$\n",
    "d_i = X_{1,i} - X_{2,i}\n",
    "$$\n",
    "\n",
    "Mean and standard deviation of differences:\n",
    "\n",
    "$$\n",
    "\\bar{d} = \\frac{1}{n}\\sum_{i=1}^{n} d_i, \\quad\n",
    "s_d = \\sqrt{\\frac{1}{n-1}\\sum_{i=1}^{n}(d_i - \\bar{d})^2}\n",
    "$$\n",
    "\n",
    "Test statistic:\n",
    "\n",
    "$$\n",
    "t = \\frac{\\bar{d}}{s_d / \\sqrt{n}}\n",
    "$$\n",
    "\n",
    "Degrees of freedom:  $df = n - 1$\n",
    "\n",
    "### Hypotheses\n",
    "\n",
    "$$\n",
    "H_0: \\mu_d = 0 \\quad \\text{(no difference)}\n",
    "$$\n",
    "$$\n",
    "H_1: \\mu_d \\ne 0 \\quad \\text{(significant difference)}\n",
    "$$\n"
   ]
  },
  {
   "cell_type": "code",
   "execution_count": 1,
   "id": "42c0597a",
   "metadata": {},
   "outputs": [],
   "source": [
    "import pandas as pd\n",
    "import numpy as np\n",
    "from scipy.stats import t"
   ]
  },
  {
   "cell_type": "code",
   "execution_count": 3,
   "id": "07098d7c",
   "metadata": {},
   "outputs": [],
   "source": [
    "data = pd.read_csv('paired_students_marks_fixed.csv')\n"
   ]
  },
  {
   "cell_type": "code",
   "execution_count": 5,
   "id": "c2653ed8",
   "metadata": {},
   "outputs": [
    {
     "data": {
      "text/html": [
       "<div>\n",
       "<style scoped>\n",
       "    .dataframe tbody tr th:only-of-type {\n",
       "        vertical-align: middle;\n",
       "    }\n",
       "\n",
       "    .dataframe tbody tr th {\n",
       "        vertical-align: top;\n",
       "    }\n",
       "\n",
       "    .dataframe thead th {\n",
       "        text-align: right;\n",
       "    }\n",
       "</style>\n",
       "<table border=\"1\" class=\"dataframe\">\n",
       "  <thead>\n",
       "    <tr style=\"text-align: right;\">\n",
       "      <th></th>\n",
       "      <th>StudentID</th>\n",
       "      <th>Group</th>\n",
       "      <th>Before</th>\n",
       "      <th>After</th>\n",
       "    </tr>\n",
       "  </thead>\n",
       "  <tbody>\n",
       "    <tr>\n",
       "      <th>0</th>\n",
       "      <td>1</td>\n",
       "      <td>A</td>\n",
       "      <td>63.973713</td>\n",
       "      <td>66.896860</td>\n",
       "    </tr>\n",
       "    <tr>\n",
       "      <th>1</th>\n",
       "      <td>2</td>\n",
       "      <td>A</td>\n",
       "      <td>58.893886</td>\n",
       "      <td>66.790659</td>\n",
       "    </tr>\n",
       "    <tr>\n",
       "      <th>2</th>\n",
       "      <td>3</td>\n",
       "      <td>A</td>\n",
       "      <td>65.181508</td>\n",
       "      <td>73.467936</td>\n",
       "    </tr>\n",
       "    <tr>\n",
       "      <th>3</th>\n",
       "      <td>4</td>\n",
       "      <td>A</td>\n",
       "      <td>72.184239</td>\n",
       "      <td>78.172853</td>\n",
       "    </tr>\n",
       "    <tr>\n",
       "      <th>4</th>\n",
       "      <td>5</td>\n",
       "      <td>A</td>\n",
       "      <td>58.126773</td>\n",
       "      <td>67.320344</td>\n",
       "    </tr>\n",
       "  </tbody>\n",
       "</table>\n",
       "</div>"
      ],
      "text/plain": [
       "   StudentID Group     Before      After\n",
       "0          1     A  63.973713  66.896860\n",
       "1          2     A  58.893886  66.790659\n",
       "2          3     A  65.181508  73.467936\n",
       "3          4     A  72.184239  78.172853\n",
       "4          5     A  58.126773  67.320344"
      ]
     },
     "execution_count": 5,
     "metadata": {},
     "output_type": "execute_result"
    }
   ],
   "source": [
    "data.head()"
   ]
  },
  {
   "cell_type": "code",
   "execution_count": 6,
   "id": "f12b52a6",
   "metadata": {},
   "outputs": [
    {
     "data": {
      "text/plain": [
       "Group\n",
       "A    100\n",
       "B    100\n",
       "Name: count, dtype: int64"
      ]
     },
     "execution_count": 6,
     "metadata": {},
     "output_type": "execute_result"
    }
   ],
   "source": [
    "data['Group'].value_counts()"
   ]
  },
  {
   "cell_type": "code",
   "execution_count": 7,
   "id": "587fa2bc",
   "metadata": {},
   "outputs": [
    {
     "data": {
      "text/plain": [
       "(200, 4)"
      ]
     },
     "execution_count": 7,
     "metadata": {},
     "output_type": "execute_result"
    }
   ],
   "source": [
    "data.shape"
   ]
  },
  {
   "cell_type": "code",
   "execution_count": 8,
   "id": "38271651",
   "metadata": {},
   "outputs": [],
   "source": [
    "group_a = data[data['Group'] == \"A\"]\n",
    "group_b = data[data['Group'] == \"B\"]"
   ]
  },
  {
   "cell_type": "markdown",
   "id": "b4005aa3",
   "metadata": {},
   "source": [
    "## Paired t-test on Students' Marks\n",
    "\n",
    "We created two groups of students to test the effect of training on performance.\n",
    "\n",
    "- **Group A (Trained):** Students who received training. Their marks are expected to improve after training.  \n",
    "- **Group B (Untrained):** Students who did not receive any training. Their marks are expected to remain almost the same.\n",
    "\n",
    "We will apply the **Paired t-test** separately on each group to check whether there is a significant difference between their **Before** and **After** marks.\n",
    "\n",
    "### Hypotheses\n",
    "\n",
    "- **Null Hypothesis (H₀):** There is no significant difference between before and after marks.  \n",
    "- **Alternative Hypothesis (H₁):** There is a significant difference between before and after marks.\n",
    "\n",
    "The paired t-test will help us confirm whether training had a real effect on students' marks.\n"
   ]
  },
  {
   "cell_type": "code",
   "execution_count": 9,
   "id": "bbfc5bed",
   "metadata": {},
   "outputs": [],
   "source": [
    "\n",
    "def T_test_paired_right(sample_before, sample_after):\n",
    "    # Step 1: difference (After - Before)\n",
    "    diff = sample_after - sample_before\n",
    "\n",
    "    # Step 2: mean and sample standard deviation\n",
    "    diff_mean = diff.mean()\n",
    "    diff_std = diff.std(ddof=1)\n",
    "\n",
    "    # Step 3: t-value\n",
    "    n = len(diff)\n",
    "    T_value = diff_mean / (diff_std / np.sqrt(n))\n",
    "\n",
    "    # Step 4: one-tailed (right side) p-value\n",
    "    P_value = 1 - t.cdf(T_value, n - 1)\n",
    "\n",
    "    # Step 5: print result\n",
    "    print(f\"T-value: {T_value:.4f}\")\n",
    "    print(f\"P-value: {P_value:.6f}\")\n",
    "\n",
    "    if P_value < 0.05:\n",
    "        print(\"✅ H1 Wins → Marks significantly increased\")\n",
    "    else:\n",
    "        print(\"❌ H0 Wins → No significant increase in marks\")\n"
   ]
  },
  {
   "cell_type": "code",
   "execution_count": 10,
   "id": "4ccf3f62",
   "metadata": {},
   "outputs": [
    {
     "name": "stdout",
     "output_type": "stream",
     "text": [
      "T-value: 21.2055\n",
      "P-value: 0.000000\n",
      "✅ H1 Wins → Marks significantly increased\n"
     ]
    }
   ],
   "source": [
    "T_test_paired_right(group_a['Before'], group_a['After'])"
   ]
  },
  {
   "cell_type": "code",
   "execution_count": 11,
   "id": "8216fcfd",
   "metadata": {},
   "outputs": [
    {
     "name": "stdout",
     "output_type": "stream",
     "text": [
      "T-value: 0.6810\n",
      "P-value: 0.248730\n",
      "❌ H0 Wins → No significant increase in marks\n"
     ]
    }
   ],
   "source": [
    "T_test_paired_right(group_b['Before'], group_b['After'])"
   ]
  },
  {
   "cell_type": "markdown",
   "id": "28f4f432",
   "metadata": {},
   "source": [
    "# 🧪 Paired Sample T-Test Result Summary\n",
    "\n",
    "We conducted a **right-tailed paired t-test** to check whether students’ marks increased **after training**.\n",
    "\n",
    "## 📊 Groups Overview\n",
    "| Group | Description | Expected Effect |\n",
    "|--------|--------------|----------------|\n",
    "| **A** | Trained students | Marks should increase |\n",
    "| **B** | Untrained students | Marks should not increase |\n",
    "\n",
    "---\n",
    "\n",
    "## 🧠 Hypotheses\n",
    "- **Null Hypothesis (H₀):** There is no improvement (mean difference = 0)  \n",
    "- **Alternative Hypothesis (H₁):** After marks are greater than before marks (mean difference > 0)\n",
    "\n",
    "---\n",
    "\n",
    "## 📈 Test Results\n",
    "\n",
    "| Group | Mean (Before) | Mean (After) | t-value | p-value | Result |\n",
    "|--------|----------------|---------------|----------|----------|---------|\n",
    "| **A** | 59.78 | 69.83 | 21.21 | 0.0000 | ✅ **H₁ Wins — Significant Improvement** |\n",
    "| **B** | 60.52 | 60.82 | 0.68 | 0.249 | ❌ **H₀ Wins — No Significant Change** |\n",
    "\n",
    "---\n",
    "\n",
    "## 🧾 Conclusion\n",
    "- **Group A (trained)** students showed a **statistically significant improvement** in marks.  \n",
    "- **Group B (untrained)** students showed **no significant difference**, confirming that training made the real impact.\n",
    "\n",
    "Hence, **training program was effective** 🎯\n"
   ]
  }
 ],
 "metadata": {
  "kernelspec": {
   "display_name": "base",
   "language": "python",
   "name": "python3"
  },
  "language_info": {
   "codemirror_mode": {
    "name": "ipython",
    "version": 3
   },
   "file_extension": ".py",
   "mimetype": "text/x-python",
   "name": "python",
   "nbconvert_exporter": "python",
   "pygments_lexer": "ipython3",
   "version": "3.11.11"
  }
 },
 "nbformat": 4,
 "nbformat_minor": 5
}
