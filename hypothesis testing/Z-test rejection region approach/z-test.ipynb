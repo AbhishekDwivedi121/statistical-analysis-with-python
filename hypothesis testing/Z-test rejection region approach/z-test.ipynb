{
 "cells": [
  {
   "cell_type": "markdown",
   "id": "eff4bed7",
   "metadata": {},
   "source": [
    "### Hypothesis Testing 📊\n",
    "\n",
    "Hypothesis testing is a fundamental concept in statistics used to make decisions about a population based on sample data. It starts with defining two competing statements:  \n",
    "\n",
    "- **Null Hypothesis (H₀) ❌:** Assumes no effect, difference, or change. It represents the default or status quo.  \n",
    "- **Alternative Hypothesis (H₁ or Ha) ✅:** Suggests there is an effect, difference, or change. It represents what we aim to prove.  \n",
    "\n",
    "The purpose of hypothesis testing is to determine whether the evidence from the data is strong enough to **reject the null hypothesis** in favor of the alternative hypothesis. This involves calculating a test statistic and comparing it with a critical value or using a p-value to make an informed decision.  \n",
    "\n",
    "Hypothesis testing is widely used in experiments, research studies, and data analysis to draw meaningful conclusions from data. 🔍\n",
    "![Hypothesis Testing](./img/image-8.png)\n"
   ]
  },
  {
   "cell_type": "code",
   "execution_count": 2,
   "id": "9df91fc4",
   "metadata": {},
   "outputs": [],
   "source": [
    "import pandas as pd\n",
    "import numpy as np\n",
    "import matplotlib.pyplot as plt"
   ]
  },
  {
   "cell_type": "code",
   "execution_count": 3,
   "id": "a26402a8",
   "metadata": {},
   "outputs": [],
   "source": [
    "data = pd.read_csv(\"SOCR-HeightWeight.csv\")"
   ]
  },
  {
   "cell_type": "code",
   "execution_count": 4,
   "id": "59b02e5a",
   "metadata": {},
   "outputs": [
    {
     "data": {
      "text/html": [
       "<div>\n",
       "<style scoped>\n",
       "    .dataframe tbody tr th:only-of-type {\n",
       "        vertical-align: middle;\n",
       "    }\n",
       "\n",
       "    .dataframe tbody tr th {\n",
       "        vertical-align: top;\n",
       "    }\n",
       "\n",
       "    .dataframe thead th {\n",
       "        text-align: right;\n",
       "    }\n",
       "</style>\n",
       "<table border=\"1\" class=\"dataframe\">\n",
       "  <thead>\n",
       "    <tr style=\"text-align: right;\">\n",
       "      <th></th>\n",
       "      <th>Index</th>\n",
       "      <th>Height(Inches)</th>\n",
       "      <th>Weight(Pounds)</th>\n",
       "    </tr>\n",
       "  </thead>\n",
       "  <tbody>\n",
       "    <tr>\n",
       "      <th>0</th>\n",
       "      <td>1</td>\n",
       "      <td>65.78331</td>\n",
       "      <td>112.9925</td>\n",
       "    </tr>\n",
       "    <tr>\n",
       "      <th>1</th>\n",
       "      <td>2</td>\n",
       "      <td>71.51521</td>\n",
       "      <td>136.4873</td>\n",
       "    </tr>\n",
       "    <tr>\n",
       "      <th>2</th>\n",
       "      <td>3</td>\n",
       "      <td>69.39874</td>\n",
       "      <td>153.0269</td>\n",
       "    </tr>\n",
       "    <tr>\n",
       "      <th>3</th>\n",
       "      <td>4</td>\n",
       "      <td>68.21660</td>\n",
       "      <td>142.3354</td>\n",
       "    </tr>\n",
       "    <tr>\n",
       "      <th>4</th>\n",
       "      <td>5</td>\n",
       "      <td>67.78781</td>\n",
       "      <td>144.2971</td>\n",
       "    </tr>\n",
       "  </tbody>\n",
       "</table>\n",
       "</div>"
      ],
      "text/plain": [
       "   Index  Height(Inches)  Weight(Pounds)\n",
       "0      1        65.78331        112.9925\n",
       "1      2        71.51521        136.4873\n",
       "2      3        69.39874        153.0269\n",
       "3      4        68.21660        142.3354\n",
       "4      5        67.78781        144.2971"
      ]
     },
     "execution_count": 4,
     "metadata": {},
     "output_type": "execute_result"
    }
   ],
   "source": [
    "data.head()"
   ]
  },
  {
   "cell_type": "code",
   "execution_count": null,
   "id": "d85ccce2",
   "metadata": {},
   "outputs": [
    {
     "name": "stdout",
     "output_type": "stream",
     "text": [
      "127.07942116080001\n",
      "11.660897563604287\n"
     ]
    }
   ],
   "source": [
    "pop = data['Weight(Pounds)']\n",
    "print(pop.mean())\n",
    "print(pop.std())\n",
    "# We have 25,000 rows of weight data which we are considering as the population (mean = 127.07, std = 11.66)"
   ]
  },
  {
   "cell_type": "code",
   "execution_count": null,
   "id": "bfab48f2",
   "metadata": {},
   "outputs": [
    {
     "data": {
      "text/plain": [
       "128.222068"
      ]
     },
     "execution_count": 7,
     "metadata": {},
     "output_type": "execute_result"
    }
   ],
   "source": [
    "# From the population (mean = 127, std = 11)\n",
    "# we took a sample of 100 data points having a sample mean of 128.\n",
    "sample = pop.sample(100)\n",
    "sample.mean()"
   ]
  },
  {
   "cell_type": "markdown",
   "id": "8607bb52",
   "metadata": {},
   "source": [
    "### Step 3: Performing Hypothesis Testing 🧮\n",
    "\n",
    "Now, we will perform **hypothesis testing** using the **Z-test**.  \n",
    "Here, we are testing whether the sample mean significantly differs from the population mean.\n",
    "\n",
    "- **Null Hypothesis (H₀):** The population mean is **127**.  \n",
    "  _(There is no significant difference between sample and population mean.)_  \n",
    "- **Alternative Hypothesis (H₁):** The population mean is **not 127** — it may be **greater or smaller** than 127.  \n",
    "\n",
    "Since we are using the **population standard deviation (σ = 11)** and **population mean (μ = 127)**, the **Z-test** is appropriate for this scenario.  \n",
    "\n",
    "We will use:\n",
    "- Population mean (μ) = 127.07  \n",
    "- Population standard deviation (σ) = 11.66  \n",
    "- Sample size (n) = 100  \n",
    "- Sample mean (x̄) = 128  \n",
    "\n",
    "Our goal 🎯 is to check whether the difference between the sample mean and population mean is statistically significant or just due to random variation.\n"
   ]
  },
  {
   "cell_type": "markdown",
   "id": "8d15844e",
   "metadata": {},
   "source": [
    "### Step 4: Defining the Significance Level and Critical Region 🎯\n",
    "\n",
    "In hypothesis testing, we choose a **significance level (α)**, which tells us how much risk we are willing to take of rejecting a true null hypothesis.\n",
    "\n",
    "Here, we take  \n",
    "**α = 0.05 (5%)**\n",
    "\n",
    "👉 This means we are allowing a **5% chance of error** — that is, we might reject H₀ even if it is actually true.\n",
    "\n",
    "---\n",
    "\n",
    "#### Critical Region vs Acceptance Region 📊\n",
    "\n",
    "- The **Acceptance Region** is the range of values where we **do not reject H₀**.  \n",
    "- The **Critical Region (Rejection Region)** is the range of values where we **reject H₀**, meaning our sample result is too unlikely under the null hypothesis.\n",
    "\n",
    "Since our test is **two-tailed** (because H₁ says the mean is *not equal* to 127),  \n",
    "the 5% significance level is divided into two tails:  \n",
    "\n",
    "- 2.5% in the **left tail**  \n",
    "- 2.5% in the **right tail**\n",
    "\n",
    "---\n",
    "\n",
    "For α = 0.05 in a **two-tailed Z-test**,  \n",
    "the **critical Z-values** are approximately **±1.96**.\n",
    "\n",
    "So we will:\n",
    "- **Reject H₀** if |Z| > 1.96  \n",
    "- **Fail to reject H₀** if |Z| ≤ 1.96  \n",
    "\n",
    "This helps us decide whether the sample mean (128) is statistically different from the population mean (127). 🧠\n"
   ]
  },
  {
   "cell_type": "code",
   "execution_count": 20,
   "id": "3288bb17",
   "metadata": {},
   "outputs": [
    {
     "name": "stdout",
     "output_type": "stream",
     "text": [
      "H0 wins\n"
     ]
    },
    {
     "data": {
      "text/plain": [
       "0.9798961297511088"
      ]
     },
     "execution_count": 20,
     "metadata": {},
     "output_type": "execute_result"
    }
   ],
   "source": [
    "from scipy.stats import norm\n",
    "def Z_test(sample_mean, pop_mean, alpha, pop_std, sample_size):\n",
    "    # Two-tailed test → split alpha into two tails\n",
    "    alpha_half = alpha / 2\n",
    "    # Left critical value\n",
    "    z_left = norm.ppf(alpha_half)\n",
    "    # Right critical value\n",
    "    z_right = norm.ppf(1 - alpha_half)\n",
    "    \n",
    "    \n",
    "    Z = (sample_mean - pop_mean) / (pop_std / np.sqrt(sample_size))\n",
    "    if Z > z_right or Z < z_left:\n",
    "        print(\"H1 Wins\")\n",
    "    else:\n",
    "        print(\"H0 wins\")\n",
    "    return Z\n",
    "\n",
    "\n",
    "\n",
    "    \n",
    "Z_test(sample.mean(), pop.mean(), 0.05, pop.std(), len(sample))"
   ]
  },
  {
   "cell_type": "code",
   "execution_count": 21,
   "id": "082bde65",
   "metadata": {},
   "outputs": [
    {
     "name": "stdout",
     "output_type": "stream",
     "text": [
      "True\n"
     ]
    }
   ],
   "source": [
    "print(0.9798961297511088 < 1.959963984540054)"
   ]
  },
  {
   "cell_type": "code",
   "execution_count": 32,
   "id": "19b490c3",
   "metadata": {},
   "outputs": [
    {
     "name": "stdout",
     "output_type": "stream",
     "text": [
      "H0 wins\n"
     ]
    },
    {
     "data": {
      "image/png": "[encoded data removed]",
      "text/plain": [
       "<Figure size 640x480 with 1 Axes>"
      ]
     },
     "metadata": {},
     "output_type": "display_data"
    }
   ],
   "source": [
    "import numpy as np\n",
    "import matplotlib.pyplot as plt\n",
    "from scipy.stats import norm\n",
    "\n",
    "# Standard normal distribution\n",
    "x = np.linspace(-4, 4, 1000)\n",
    "y = norm.pdf(x, 0, 1)  # mean=0, std=1\n",
    "\n",
    "# Critical Z-values\n",
    "z_left, z_right = -1.96, 1.96\n",
    "\n",
    "# Plot the curve\n",
    "plt.plot(x, y, label='Standard Normal Distribution', color='blue')\n",
    "\n",
    "# Highlight critical region\n",
    "plt.fill_between(x, 0, y, where=(x <= z_left), color='red', alpha=0.3, label='Rejection Region')\n",
    "plt.fill_between(x, 0, y, where=(x >= z_right), color='red', alpha=0.3)\n",
    "\n",
    "# Labels\n",
    "plt.axvline(0, color='black', linestyle='--', label='Mean (0)')\n",
    "plt.axvline(Z_test(sample.mean(), pop.mean(), 0.05, pop.std(), len(sample)), linestyle='--', color='red', linewidth=2, label='Z-value')\n",
    "plt.title('Standard Normal Distribution with ±1.96 Highlighted')\n",
    "plt.xlabel('Z-value')\n",
    "plt.ylabel('Probability Density')\n",
    "plt.legend()\n",
    "plt.grid(True)\n",
    "plt.show()\n"
   ]
  },
  {
   "cell_type": "code",
   "execution_count": null,
   "id": "294cbde1",
   "metadata": {},
   "outputs": [],
   "source": []
  }
 ],
 "metadata": {
  "kernelspec": {
   "display_name": "base",
   "language": "python",
   "name": "python3"
  },
  "language_info": {
   "codemirror_mode": {
    "name": "ipython",
    "version": 3
   },
   "file_extension": ".py",
   "mimetype": "text/x-python",
   "name": "python",
   "nbconvert_exporter": "python",
   "pygments_lexer": "ipython3",
   "version": "3.11.11"
  }
 },
 "nbformat": 4,
 "nbformat_minor": 5
}
