{
 "cells": [
  {
   "cell_type": "markdown",
   "id": "d8bb4571",
   "metadata": {},
   "source": [
    "# **Two-Sample t-Test**\n",
    "\n",
    "A **two-sample t-test** checks whether the means of two independent samples are significantly different from each other.\n",
    "\n",
    "---\n",
    "\n",
    "## **1. Hypotheses**\n",
    "\n",
    "**Null Hypothesis (H0):**  \n",
    "Mean of group 1 = Mean of group 2  \n",
    "$H_0: \\mu_1 = \\mu_2$\n",
    "\n",
    "**Alternative Hypothesis (H1):**  \n",
    "Means are not equal  \n",
    "$H_1: \\mu_1 \\neq \\mu_2$\n",
    "\n",
    "---\n",
    "\n",
    "## **2. Test Statistic (Equal Variance Assumed)**\n",
    "\n",
    "The t-statistic is calculated as:\n",
    "\n",
    "$t = \\dfrac{\\bar{X}_1 - \\bar{X}_2}{S_p \\sqrt{\\dfrac{1}{n_1} + \\dfrac{1}{n_2}}}$\n",
    "\n",
    "where  \n",
    "\n",
    "$S_p = \\sqrt{\\dfrac{(n_1 - 1)S_1^2 + (n_2 - 1)S_2^2}{n_1 + n_2 - 2}}$\n",
    "\n",
    "---\n",
    "\n",
    "## **3. Degrees of Freedom**\n",
    "\n",
    "$df = n_1 + n_2 - 2$\n",
    "\n",
    "---\n",
    "\n",
    "## **4. Decision Rule**\n",
    "\n",
    "If  \n",
    "$|t_{calculated}| > t_{critical}$  \n",
    "→ Reject H₀ (significant difference between means)\n",
    "\n",
    "Otherwise → Fail to reject H₀ (no significant difference)"
   ]
  },
  {
   "cell_type": "code",
   "execution_count": 1,
   "id": "55a9df2b",
   "metadata": {},
   "outputs": [],
   "source": [
    "import pandas as pd"
   ]
  },
  {
   "cell_type": "code",
   "execution_count": 2,
   "id": "10bdf195",
   "metadata": {},
   "outputs": [],
   "source": [
    "data = pd.read_csv('weights_equal.csv')"
   ]
  },
  {
   "cell_type": "code",
   "execution_count": 3,
   "id": "56cbf4ed",
   "metadata": {},
   "outputs": [],
   "source": [
    "male_pop = data[data['Gender'] =='Male']\n",
    "female_pop = data[data['Gender'] =='Female']"
   ]
  },
  {
   "cell_type": "code",
   "execution_count": 4,
   "id": "485aa8d0",
   "metadata": {},
   "outputs": [
    {
     "data": {
      "text/html": [
       "<div>\n",
       "<style scoped>\n",
       "    .dataframe tbody tr th:only-of-type {\n",
       "        vertical-align: middle;\n",
       "    }\n",
       "\n",
       "    .dataframe tbody tr th {\n",
       "        vertical-align: top;\n",
       "    }\n",
       "\n",
       "    .dataframe thead th {\n",
       "        text-align: right;\n",
       "    }\n",
       "</style>\n",
       "<table border=\"1\" class=\"dataframe\">\n",
       "  <thead>\n",
       "    <tr style=\"text-align: right;\">\n",
       "      <th></th>\n",
       "      <th>Gender</th>\n",
       "      <th>Weight</th>\n",
       "    </tr>\n",
       "  </thead>\n",
       "  <tbody>\n",
       "    <tr>\n",
       "      <th>100</th>\n",
       "      <td>Female</td>\n",
       "      <td>64.197035</td>\n",
       "    </tr>\n",
       "    <tr>\n",
       "      <th>101</th>\n",
       "      <td>Female</td>\n",
       "      <td>66.078733</td>\n",
       "    </tr>\n",
       "    <tr>\n",
       "      <th>102</th>\n",
       "      <td>Female</td>\n",
       "      <td>75.231055</td>\n",
       "    </tr>\n",
       "    <tr>\n",
       "      <th>103</th>\n",
       "      <td>Female</td>\n",
       "      <td>74.272592</td>\n",
       "    </tr>\n",
       "    <tr>\n",
       "      <th>104</th>\n",
       "      <td>Female</td>\n",
       "      <td>69.853689</td>\n",
       "    </tr>\n",
       "    <tr>\n",
       "      <th>...</th>\n",
       "      <td>...</td>\n",
       "      <td>...</td>\n",
       "    </tr>\n",
       "    <tr>\n",
       "      <th>195</th>\n",
       "      <td>Female</td>\n",
       "      <td>66.715770</td>\n",
       "    </tr>\n",
       "    <tr>\n",
       "      <th>196</th>\n",
       "      <td>Female</td>\n",
       "      <td>58.008058</td>\n",
       "    </tr>\n",
       "    <tr>\n",
       "      <th>197</th>\n",
       "      <td>Female</td>\n",
       "      <td>79.477107</td>\n",
       "    </tr>\n",
       "    <tr>\n",
       "      <th>198</th>\n",
       "      <td>Female</td>\n",
       "      <td>69.198221</td>\n",
       "    </tr>\n",
       "    <tr>\n",
       "      <th>199</th>\n",
       "      <td>Female</td>\n",
       "      <td>78.664714</td>\n",
       "    </tr>\n",
       "  </tbody>\n",
       "</table>\n",
       "<p>100 rows × 2 columns</p>\n",
       "</div>"
      ],
      "text/plain": [
       "     Gender     Weight\n",
       "100  Female  64.197035\n",
       "101  Female  66.078733\n",
       "102  Female  75.231055\n",
       "103  Female  74.272592\n",
       "104  Female  69.853689\n",
       "..      ...        ...\n",
       "195  Female  66.715770\n",
       "196  Female  58.008058\n",
       "197  Female  79.477107\n",
       "198  Female  69.198221\n",
       "199  Female  78.664714\n",
       "\n",
       "[100 rows x 2 columns]"
      ]
     },
     "execution_count": 4,
     "metadata": {},
     "output_type": "execute_result"
    }
   ],
   "source": [
    "female_pop"
   ]
  },
  {
   "cell_type": "code",
   "execution_count": 6,
   "id": "71f18e5e",
   "metadata": {},
   "outputs": [],
   "source": [
    "sample_m = male_pop['Weight'].sample(30)\n",
    "sample_f = female_pop['Weight'].sample(30)"
   ]
  },
  {
   "cell_type": "code",
   "execution_count": 8,
   "id": "52fd4c76",
   "metadata": {},
   "outputs": [
    {
     "data": {
      "text/plain": [
       "70.59492215503263"
      ]
     },
     "execution_count": 8,
     "metadata": {},
     "output_type": "execute_result"
    }
   ],
   "source": [
    "sample_f.mean()"
   ]
  },
  {
   "cell_type": "code",
   "execution_count": 9,
   "id": "36dccf15",
   "metadata": {},
   "outputs": [
    {
     "data": {
      "text/plain": [
       "69.41928323309959"
      ]
     },
     "execution_count": 9,
     "metadata": {},
     "output_type": "execute_result"
    }
   ],
   "source": [
    "sample_m.mean()"
   ]
  },
  {
   "cell_type": "code",
   "execution_count": 10,
   "id": "e57bbcab",
   "metadata": {},
   "outputs": [],
   "source": [
    "from scipy.stats import stats"
   ]
  },
  {
   "cell_type": "code",
   "execution_count": 13,
   "id": "50878e8e",
   "metadata": {},
   "outputs": [
    {
     "name": "stderr",
     "output_type": "stream",
     "text": [
      "C:\\Users\\bittu\\AppData\\Local\\Temp\\ipykernel_15088\\480581880.py:1: DeprecationWarning: Please import `ttest_ind` from the `scipy.stats` namespace; the `scipy.stats.stats` namespace is deprecated and will be removed in SciPy 2.0.0.\n",
      "  stats.ttest_ind(sample_m, sample_f, equal_var=True)\n"
     ]
    },
    {
     "data": {
      "text/plain": [
       "TtestResult(statistic=-0.6958378953800914, pvalue=0.489309307432243, df=58.0)"
      ]
     },
     "execution_count": 13,
     "metadata": {},
     "output_type": "execute_result"
    }
   ],
   "source": [
    "stats.ttest_ind(sample_m, sample_f, equal_var=True)"
   ]
  },
  {
   "cell_type": "code",
   "execution_count": 14,
   "id": "f11af43a",
   "metadata": {},
   "outputs": [
    {
     "name": "stderr",
     "output_type": "stream",
     "text": [
      "C:\\Users\\bittu\\AppData\\Local\\Temp\\ipykernel_15088\\3161199544.py:1: DeprecationWarning: Please import `ttest_ind` from the `scipy.stats` namespace; the `scipy.stats.stats` namespace is deprecated and will be removed in SciPy 2.0.0.\n",
      "  stats.ttest_ind(sample_m, sample_f, equal_var=False)\n"
     ]
    },
    {
     "data": {
      "text/plain": [
       "TtestResult(statistic=-0.6958378953800916, pvalue=0.4893605882759856, df=56.945597656687156)"
      ]
     },
     "execution_count": 14,
     "metadata": {},
     "output_type": "execute_result"
    }
   ],
   "source": [
    "stats.ttest_ind(sample_m, sample_f, equal_var=False)"
   ]
  },
  {
   "cell_type": "code",
   "execution_count": 17,
   "id": "0fc399fa",
   "metadata": {},
   "outputs": [],
   "source": [
    "import numpy\n",
    "arr = numpy.array([6, 7, 5, 8])"
   ]
  },
  {
   "cell_type": "code",
   "execution_count": 23,
   "id": "f92a8b95",
   "metadata": {},
   "outputs": [
    {
     "data": {
      "text/plain": [
       "1.25"
      ]
     },
     "execution_count": 23,
     "metadata": {},
     "output_type": "execute_result"
    }
   ],
   "source": [
    "arr.var()"
   ]
  },
  {
   "cell_type": "code",
   "execution_count": 27,
   "id": "ed101ef0",
   "metadata": {},
   "outputs": [
    {
     "name": "stdout",
     "output_type": "stream",
     "text": [
      "-0.5\n",
      "0.5\n",
      "-1.5\n",
      "1.5\n"
     ]
    },
    {
     "data": {
      "text/plain": [
       "2.25"
      ]
     },
     "execution_count": 27,
     "metadata": {},
     "output_type": "execute_result"
    }
   ],
   "source": [
    "for i in range(len(arr)):\n",
    "    varience =+ (arr[i] - arr.mean()) ** 2\n",
    "    print((arr[i] - arr.mean()))\n",
    "varience"
   ]
  },
  {
   "cell_type": "code",
   "execution_count": 26,
   "id": "9c52b4f2",
   "metadata": {},
   "outputs": [
    {
     "data": {
      "text/plain": [
       "0.5625"
      ]
     },
     "execution_count": 26,
     "metadata": {},
     "output_type": "execute_result"
    }
   ],
   "source": [
    "2.25 / 4"
   ]
  },
  {
   "cell_type": "code",
   "execution_count": 31,
   "id": "b79988b1",
   "metadata": {},
   "outputs": [
    {
     "data": {
      "text/plain": [
       "5.0"
      ]
     },
     "execution_count": 31,
     "metadata": {},
     "output_type": "execute_result"
    }
   ],
   "source": [
    "((arr[0] - arr.mean()) ** 2) + ((arr[1] - arr.mean()) ** 2)  + ((arr[2] - arr.mean()) ** 2) + ((arr[3] - arr.mean()) ** 2 )"
   ]
  },
  {
   "cell_type": "code",
   "execution_count": 35,
   "id": "d57bfb06",
   "metadata": {},
   "outputs": [
    {
     "data": {
      "text/plain": [
       "1.6666666666666667"
      ]
     },
     "execution_count": 35,
     "metadata": {},
     "output_type": "execute_result"
    }
   ],
   "source": [
    "5 / 3"
   ]
  },
  {
   "cell_type": "code",
   "execution_count": 33,
   "id": "190f29bf",
   "metadata": {},
   "outputs": [
    {
     "data": {
      "text/plain": [
       "2.777777777777778"
      ]
     },
     "execution_count": 33,
     "metadata": {},
     "output_type": "execute_result"
    }
   ],
   "source": [
    "1.6666666666666667 ** 2"
   ]
  },
  {
   "cell_type": "code",
   "execution_count": 36,
   "id": "fcae641d",
   "metadata": {},
   "outputs": [
    {
     "data": {
      "text/plain": [
       "0.4166666666666667"
      ]
     },
     "execution_count": 36,
     "metadata": {},
     "output_type": "execute_result"
    }
   ],
   "source": [
    "1.6666666666666667 / 4"
   ]
  },
  {
   "cell_type": "code",
   "execution_count": 40,
   "id": "e1e0f754",
   "metadata": {},
   "outputs": [
    {
     "data": {
      "text/plain": [
       "1.167"
      ]
     },
     "execution_count": 40,
     "metadata": {},
     "output_type": "execute_result"
    }
   ],
   "source": [
    "((3 * 1.667) + (3 * 0.667)) / 6"
   ]
  },
  {
   "cell_type": "code",
   "execution_count": null,
   "id": "54567a32",
   "metadata": {},
   "outputs": [
    {
     "data": {
      "text/plain": [
       "2.0010000000000003"
      ]
     },
     "execution_count": 38,
     "metadata": {},
     "output_type": "execute_result"
    }
   ],
   "source": []
  },
  {
   "cell_type": "code",
   "execution_count": null,
   "id": "a05acdb5",
   "metadata": {},
   "outputs": [],
   "source": []
  }
 ],
 "metadata": {
  "kernelspec": {
   "display_name": "base",
   "language": "python",
   "name": "python3"
  },
  "language_info": {
   "codemirror_mode": {
    "name": "ipython",
    "version": 3
   },
   "file_extension": ".py",
   "mimetype": "text/x-python",
   "name": "python",
   "nbconvert_exporter": "python",
   "pygments_lexer": "ipython3",
   "version": "3.11.11"
  }
 },
 "nbformat": 4,
 "nbformat_minor": 5
}
