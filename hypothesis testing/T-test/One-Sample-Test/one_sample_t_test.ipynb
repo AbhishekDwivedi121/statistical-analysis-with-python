{
 "cells": [
  {
   "cell_type": "markdown",
   "id": "2b0870f4",
   "metadata": {},
   "source": [
    "## 🧪 One-Sample *t*-Test\n",
    "\n",
    "### 1️⃣ Purpose\n",
    "The **one-sample t-test** is used to determine whether the mean of a single sample  \n",
    "is significantly different from a known or hypothesized **population mean** ($\\mu_0$).\n",
    "\n",
    "---\n",
    "\n",
    "### 2️⃣ Hypotheses\n",
    "\n",
    "**Null Hypothesis ($H_0$):**  \n",
    "$$\n",
    "\\mu = \\mu_0\n",
    "$$\n",
    "\n",
    "**Alternative Hypothesis ($H_1$):**\n",
    "\n",
    "- **Two-tailed:**  \n",
    "  $$\n",
    "  \\mu \\neq \\mu_0\n",
    "  $$\n",
    "\n",
    "- **Left-tailed:**  \n",
    "  $$\n",
    "  \\mu < \\mu_0\n",
    "  $$\n",
    "\n",
    "- **Right-tailed:**  \n",
    "  $$\n",
    "  \\mu > \\mu_0\n",
    "  $$\n",
    "\n",
    "---\n",
    "\n",
    "### 3️⃣ Test Statistic Formula\n",
    "\n",
    "$$\n",
    "t = \\frac{\\bar{x} - \\mu_0}{s / \\sqrt{n}}\n",
    "$$\n",
    "\n",
    "where:  \n",
    "- $\\bar{x}$ = sample mean  \n",
    "- $\\mu_0$ = hypothesized population mean  \n",
    "- $s$ = sample standard deviation  \n",
    "- $n$ = sample size  \n",
    "\n",
    "---\n",
    "\n",
    "### 4️⃣ Degrees of Freedom\n",
    "\n",
    "$$\n",
    "df = n - 1\n",
    "$$\n",
    "\n",
    "---\n",
    "\n",
    "### 5️⃣ p-Value Calculation\n",
    "\n",
    "Depending on the type of test:\n",
    "\n",
    "- **Two-tailed:**  \n",
    "  $$\n",
    "  p = 2 \\times \\left(1 - F_t(|t|, df)\\right)\n",
    "  $$\n",
    "\n",
    "- **Right-tailed:**  \n",
    "  $$\n",
    "  p = 1 - F_t(t, df)\n",
    "  $$\n",
    "\n",
    "- **Left-tailed:**  \n",
    "  $$\n",
    "  p = F_t(t, df)\n",
    "  $$\n",
    "\n",
    "where $F_t(t, df)$ is the **CDF (Cumulative Distribution Function)**  \n",
    "of the *t*-distribution with $df$ degrees of freedom.\n",
    "\n",
    "---\n",
    "\n",
    "### 6️⃣ Decision Rule\n",
    "\n",
    "For a chosen significance level $\\alpha$ (e.g., 0.05):\n",
    "\n",
    "- If $p < \\alpha$: **Reject $H_0$**  \n",
    "- Else: **Fail to reject $H_0$**\n"
   ]
  },
  {
   "cell_type": "code",
   "execution_count": 102,
   "id": "66af4a00",
   "metadata": {},
   "outputs": [],
   "source": [
    "import pandas as pd\n",
    "import numpy as np\n",
    "import matplotlib.pyplot as plt\n",
    "import seaborn as sns"
   ]
  },
  {
   "cell_type": "code",
   "execution_count": 103,
   "id": "c6dfaed2",
   "metadata": {},
   "outputs": [],
   "source": [
    "data = sns.load_dataset('titanic')"
   ]
  },
  {
   "cell_type": "code",
   "execution_count": 104,
   "id": "48f7144e",
   "metadata": {},
   "outputs": [
    {
     "data": {
      "text/html": [
       "<div>\n",
       "<style scoped>\n",
       "    .dataframe tbody tr th:only-of-type {\n",
       "        vertical-align: middle;\n",
       "    }\n",
       "\n",
       "    .dataframe tbody tr th {\n",
       "        vertical-align: top;\n",
       "    }\n",
       "\n",
       "    .dataframe thead th {\n",
       "        text-align: right;\n",
       "    }\n",
       "</style>\n",
       "<table border=\"1\" class=\"dataframe\">\n",
       "  <thead>\n",
       "    <tr style=\"text-align: right;\">\n",
       "      <th></th>\n",
       "      <th>survived</th>\n",
       "      <th>pclass</th>\n",
       "      <th>sex</th>\n",
       "      <th>age</th>\n",
       "      <th>sibsp</th>\n",
       "      <th>parch</th>\n",
       "      <th>fare</th>\n",
       "      <th>embarked</th>\n",
       "      <th>class</th>\n",
       "      <th>who</th>\n",
       "      <th>adult_male</th>\n",
       "      <th>deck</th>\n",
       "      <th>embark_town</th>\n",
       "      <th>alive</th>\n",
       "      <th>alone</th>\n",
       "    </tr>\n",
       "  </thead>\n",
       "  <tbody>\n",
       "    <tr>\n",
       "      <th>0</th>\n",
       "      <td>0</td>\n",
       "      <td>3</td>\n",
       "      <td>male</td>\n",
       "      <td>22.0</td>\n",
       "      <td>1</td>\n",
       "      <td>0</td>\n",
       "      <td>7.2500</td>\n",
       "      <td>S</td>\n",
       "      <td>Third</td>\n",
       "      <td>man</td>\n",
       "      <td>True</td>\n",
       "      <td>NaN</td>\n",
       "      <td>Southampton</td>\n",
       "      <td>no</td>\n",
       "      <td>False</td>\n",
       "    </tr>\n",
       "    <tr>\n",
       "      <th>1</th>\n",
       "      <td>1</td>\n",
       "      <td>1</td>\n",
       "      <td>female</td>\n",
       "      <td>38.0</td>\n",
       "      <td>1</td>\n",
       "      <td>0</td>\n",
       "      <td>71.2833</td>\n",
       "      <td>C</td>\n",
       "      <td>First</td>\n",
       "      <td>woman</td>\n",
       "      <td>False</td>\n",
       "      <td>C</td>\n",
       "      <td>Cherbourg</td>\n",
       "      <td>yes</td>\n",
       "      <td>False</td>\n",
       "    </tr>\n",
       "    <tr>\n",
       "      <th>2</th>\n",
       "      <td>1</td>\n",
       "      <td>3</td>\n",
       "      <td>female</td>\n",
       "      <td>26.0</td>\n",
       "      <td>0</td>\n",
       "      <td>0</td>\n",
       "      <td>7.9250</td>\n",
       "      <td>S</td>\n",
       "      <td>Third</td>\n",
       "      <td>woman</td>\n",
       "      <td>False</td>\n",
       "      <td>NaN</td>\n",
       "      <td>Southampton</td>\n",
       "      <td>yes</td>\n",
       "      <td>True</td>\n",
       "    </tr>\n",
       "    <tr>\n",
       "      <th>3</th>\n",
       "      <td>1</td>\n",
       "      <td>1</td>\n",
       "      <td>female</td>\n",
       "      <td>35.0</td>\n",
       "      <td>1</td>\n",
       "      <td>0</td>\n",
       "      <td>53.1000</td>\n",
       "      <td>S</td>\n",
       "      <td>First</td>\n",
       "      <td>woman</td>\n",
       "      <td>False</td>\n",
       "      <td>C</td>\n",
       "      <td>Southampton</td>\n",
       "      <td>yes</td>\n",
       "      <td>False</td>\n",
       "    </tr>\n",
       "    <tr>\n",
       "      <th>4</th>\n",
       "      <td>0</td>\n",
       "      <td>3</td>\n",
       "      <td>male</td>\n",
       "      <td>35.0</td>\n",
       "      <td>0</td>\n",
       "      <td>0</td>\n",
       "      <td>8.0500</td>\n",
       "      <td>S</td>\n",
       "      <td>Third</td>\n",
       "      <td>man</td>\n",
       "      <td>True</td>\n",
       "      <td>NaN</td>\n",
       "      <td>Southampton</td>\n",
       "      <td>no</td>\n",
       "      <td>True</td>\n",
       "    </tr>\n",
       "  </tbody>\n",
       "</table>\n",
       "</div>"
      ],
      "text/plain": [
       "   survived  pclass     sex   age  sibsp  parch     fare embarked  class  \\\n",
       "0         0       3    male  22.0      1      0   7.2500        S  Third   \n",
       "1         1       1  female  38.0      1      0  71.2833        C  First   \n",
       "2         1       3  female  26.0      0      0   7.9250        S  Third   \n",
       "3         1       1  female  35.0      1      0  53.1000        S  First   \n",
       "4         0       3    male  35.0      0      0   8.0500        S  Third   \n",
       "\n",
       "     who  adult_male deck  embark_town alive  alone  \n",
       "0    man        True  NaN  Southampton    no  False  \n",
       "1  woman       False    C    Cherbourg   yes  False  \n",
       "2  woman       False  NaN  Southampton   yes   True  \n",
       "3  woman       False    C  Southampton   yes  False  \n",
       "4    man        True  NaN  Southampton    no   True  "
      ]
     },
     "execution_count": 104,
     "metadata": {},
     "output_type": "execute_result"
    }
   ],
   "source": [
    "data.head()"
   ]
  },
  {
   "cell_type": "code",
   "execution_count": 105,
   "id": "85088b55",
   "metadata": {},
   "outputs": [
    {
     "data": {
      "text/plain": [
       "(891, 15)"
      ]
     },
     "execution_count": 105,
     "metadata": {},
     "output_type": "execute_result"
    }
   ],
   "source": [
    "data.shape"
   ]
  },
  {
   "cell_type": "code",
   "execution_count": 106,
   "id": "fcd8dd66",
   "metadata": {},
   "outputs": [
    {
     "data": {
      "text/plain": [
       "survived         0\n",
       "pclass           0\n",
       "sex              0\n",
       "age            177\n",
       "sibsp            0\n",
       "parch            0\n",
       "fare             0\n",
       "embarked         2\n",
       "class            0\n",
       "who              0\n",
       "adult_male       0\n",
       "deck           688\n",
       "embark_town      2\n",
       "alive            0\n",
       "alone            0\n",
       "dtype: int64"
      ]
     },
     "execution_count": 106,
     "metadata": {},
     "output_type": "execute_result"
    }
   ],
   "source": [
    "data.isna().sum()"
   ]
  },
  {
   "cell_type": "code",
   "execution_count": 107,
   "id": "9f2c390c",
   "metadata": {},
   "outputs": [
    {
     "data": {
      "text/plain": [
       "891"
      ]
     },
     "execution_count": 107,
     "metadata": {},
     "output_type": "execute_result"
    }
   ],
   "source": [
    "pop = data['age']\n",
    "len(pop)"
   ]
  },
  {
   "cell_type": "code",
   "execution_count": 108,
   "id": "f5ed5080",
   "metadata": {},
   "outputs": [
    {
     "data": {
      "text/plain": [
       "714"
      ]
     },
     "execution_count": 108,
     "metadata": {},
     "output_type": "execute_result"
    }
   ],
   "source": [
    "# Note: In this hypothesis testing, we will not treat missing (NaN) values.\n",
    "# Instead, we will directly remove them to ensure valid statistical analysis.\n",
    "pop = pop.dropna()\n",
    "len(pop)"
   ]
  },
  {
   "cell_type": "code",
   "execution_count": 109,
   "id": "872c7b63",
   "metadata": {},
   "outputs": [
    {
     "name": "stdout",
     "output_type": "stream",
     "text": [
      "mean of pop 29.69911764705882\n"
     ]
    }
   ],
   "source": [
    "print(\"mean of pop\", pop.mean())"
   ]
  },
  {
   "cell_type": "code",
   "execution_count": null,
   "id": "ba876edb",
   "metadata": {},
   "outputs": [
    {
     "name": "stdout",
     "output_type": "stream",
     "text": [
      "sample mean 24.8\n"
     ]
    }
   ],
   "source": [
    "sample = pop.sample(50) \n",
    "print(\"sample mean\", sample.mean())"
   ]
  },
  {
   "cell_type": "markdown",
   "id": "0ab8107b",
   "metadata": {},
   "source": [
    "## 🚢 One-Sample *t*-Test (Titanic Dataset)\n",
    "\n",
    "### 🎯 Objective\n",
    "We want to test whether the **mean age** of our Titanic sample  \n",
    "is **significantly less** than the population mean.\n",
    "\n",
    "---\n",
    "\n",
    "### 📊 Given Data\n",
    "\n",
    "- Population mean ($\\mu_0$): 29.69 \n",
    "- Sample mean ($\\bar{x}$): 24.8 \n",
    "- Type of test: **Left-tailed (one-tailed)**  \n",
    "- Significance level ($\\alpha$): 0.05  \n",
    "\n",
    "---\n",
    "\n",
    "### 🧩 Step 1: State the Hypotheses\n",
    "\n",
    "**Null Hypothesis ($H_0$):**  \n",
    "$$\n",
    "\\mu = \\mu_0\n",
    "$$\n",
    "\n",
    "**Alternative Hypothesis ($H_1$):**  \n",
    "$$\n",
    "\\mu < \\mu_0\n",
    "$$\n",
    "\n",
    "---\n",
    "\n",
    "### 🧮 Step 2: Test Statistic Formula\n",
    "\n",
    "$$\n",
    "t = \\frac{\\bar{x} - \\mu_0}{s / \\sqrt{n}}\n",
    "$$\n",
    "\n",
    "where:  \n",
    "- $\\bar{x}$ = sample mean  \n",
    "- $\\mu_0$ = hypothesized population mean  \n",
    "- $s$ = sample standard deviation  \n",
    "- $n$ = sample size  \n",
    "\n",
    "---\n",
    "\n",
    "### 🧠 Step 3: Degrees of Freedom\n",
    "\n",
    "$$\n",
    "df = n - 1\n",
    "$$\n",
    "\n",
    "---\n",
    "\n",
    "### 🧾 Step 4: p-Value Calculation (Left-Tailed)\n",
    "\n",
    "For a left-tailed test:\n",
    "\n",
    "$$\n",
    "p = F_t(t, df)\n",
    "$$\n",
    "\n",
    "where $F_t(t, df)$ is the **CDF** of the *t*-distribution.\n",
    "\n",
    "---\n",
    "\n",
    "### 🧭 Step 5: Decision Rule\n",
    "\n",
    "At $\\alpha = 0.05$:\n",
    "\n",
    "- If $p < \\alpha$: **Reject $H_0$**  \n",
    "- Else: **Fail to reject $H_0$**\n",
    "\n",
    "---\n",
    "\n",
    "### 🧩 Step 6: Interpretation\n",
    "\n",
    "If the null hypothesis is rejected,  \n",
    "we conclude that the **sample mean age** is **significantly lower**  \n",
    "than the population mean (29.6991).  \n",
    "Otherwise, we conclude that the sample does not provide enough evidence  \n",
    "to say that the mean age is lower.\n"
   ]
  },
  {
   "cell_type": "code",
   "execution_count": null,
   "id": "05d36442",
   "metadata": {},
   "outputs": [],
   "source": [
    "from scipy.stats import t, shapiro\n",
    "def T_test(sample_mean, sample_size, pop_mean, sample_std, alpha, tails):\n",
    "    T_value = ((sample_mean - pop_mean) / (sample_std / np.sqrt(sample_size)))\n",
    "    return P_value(T_value, sample_size, alpha, tails)\n",
    "    \n",
    "    \n",
    "def P_value(t_value, df, alpha, tails):\n",
    "    if tails == 2:  \n",
    "         P_value =  tails * (1 - t.cdf(abs(t_value), df-1))\n",
    "    else:\n",
    "        P_value = t.cdf(t_value, df-1)\n",
    "    if P_value < alpha:\n",
    "        print(\"✅ Reject H₀ → H₁ wins\")\n",
    "    else:\n",
    "        print(\"❌ Fail to reject H₀ → H₀ wins\")\n",
    "    return t_value, P_value  "
   ]
  },
  {
   "cell_type": "code",
   "execution_count": 144,
   "id": "1c3959a2",
   "metadata": {},
   "outputs": [
    {
     "name": "stdout",
     "output_type": "stream",
     "text": [
      "❌ Fail to reject H₀ → H₀ wins\n",
      "(0.094346146394838, 0.4626094724894808)\n"
     ]
    }
   ],
   "source": [
    "print(T_test(sample.mean(), len(sample), pop.mean(), sample.std(), 0.05, 1))"
   ]
  }
 ],
 "metadata": {
  "kernelspec": {
   "display_name": "base",
   "language": "python",
   "name": "python3"
  },
  "language_info": {
   "codemirror_mode": {
    "name": "ipython",
    "version": 3
   },
   "file_extension": ".py",
   "mimetype": "text/x-python",
   "name": "python",
   "nbconvert_exporter": "python",
   "pygments_lexer": "ipython3",
   "version": "3.11.11"
  }
 },
 "nbformat": 4,
 "nbformat_minor": 5
}
