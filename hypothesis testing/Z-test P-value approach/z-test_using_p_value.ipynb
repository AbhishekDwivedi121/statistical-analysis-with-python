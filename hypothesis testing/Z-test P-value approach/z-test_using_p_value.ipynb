{
 "cells": [
  {
   "cell_type": "markdown",
   "id": "aff92c72",
   "metadata": {},
   "source": [
    "# 🧠 Hypothesis Testing Using *p-value*\n",
    "\n",
    "---\n",
    "\n",
    "## 🔹 Step 1: State the Hypotheses\n",
    "\n",
    "We begin with two hypotheses:\n",
    "\n",
    "- **Null Hypothesis (H₀):** There is *no effect* or *no difference*.\n",
    "- **Alternative Hypothesis (H₁ or Hₐ):** There *is an effect* or *a difference*.\n",
    "\n",
    "For example:\n",
    "\n",
    "$$\n",
    "H_0: \\mu = \\mu_0 \\quad \\text{and} \\quad H_1: \\mu \\neq \\mu_0\n",
    "$$\n",
    "\n",
    "---\n",
    "\n",
    "## 🔹 Step 2: Choose Significance Level (α)\n",
    "\n",
    "The **significance level (α)** is the probability of rejecting the null hypothesis when it is actually true  \n",
    "(Type I error).\n",
    "\n",
    "Common values:\n",
    "\n",
    "$$\n",
    "\\alpha = 0.05, \\; 0.01, \\; 0.10\n",
    "$$\n",
    "\n",
    "---\n",
    "\n",
    "## 🔹 Step 3: Compute the Test Statistic\n",
    "\n",
    "Depending on the type of test (Z-test, T-test, etc.), we calculate a test statistic.\n",
    "\n",
    "For example, in a **Z-test**:\n",
    "\n",
    "$$\n",
    "z = \\frac{\\bar{X} - \\mu_0}{\\sigma / \\sqrt{n}}\n",
    "$$\n",
    "\n",
    "For a **t-test** (when population standard deviation is unknown):\n",
    "\n",
    "$$\n",
    "t = \\frac{\\bar{X} - \\mu_0}{s / \\sqrt{n}}\n",
    "$$\n",
    "\n",
    "---\n",
    "\n",
    "## 🔹 Step 4: Find the *p-value*\n",
    "\n",
    "The **p-value** represents the probability of obtaining a test statistic  \n",
    "as extreme as the observed one, assuming \\( H_0 \\) is true.\n",
    "\n",
    "Interpretation:\n",
    "- A **small p-value** → strong evidence *against* \\( H_0 \\)\n",
    "- A **large p-value** → weak evidence *against* \\( H_0 \\)\n",
    "\n",
    "---\n",
    "\n",
    "## 🔹 Step 5: Decision Rule\n",
    "\n",
    "Compare the p-value with the significance level (α):\n",
    "\n",
    "$$\n",
    "\\text{If } p \\leq \\alpha, \\; \\text{Reject } H_0\n",
    "$$\n",
    "\n",
    "$$\n",
    "\\text{If } p > \\alpha, \\; \\text{Fail to Reject } H_0\n",
    "$$\n",
    "\n",
    "---\n",
    "\n",
    "## 💡 Importance of *p-value*\n",
    "\n",
    "- Quantifies the **strength of evidence** against the null hypothesis.  \n",
    "- A smaller p-value indicates **stronger evidence** that the null hypothesis may be false.  \n",
    "- Allows for **objective** decision-making in hypothesis testing.  \n",
    "- Commonly used in scientific research to determine **statistical significance**.\n",
    "\n",
    "---\n",
    "\n",
    "### 📊 Interpretation Table\n",
    "\n",
    "| p-value | Evidence Against \\(H_0\\) | Decision (at α = 0.05) |\n",
    "|:--------:|:--------------------------|:----------------------|\n",
    "| > 0.05 | Weak evidence | Fail to reject \\(H_0\\) |\n",
    "| ≤ 0.05 | Moderate evidence | Reject \\(H_0\\) |\n",
    "| ≤ 0.01 | Strong evidence | Reject \\(H_0\\) confidently |\n",
    "\n",
    "---\n",
    "\n",
    "✅ **Summary:**\n",
    "\n",
    "> The smaller the p-value, the stronger the evidence that the null hypothesis may not be true.\n",
    "\n",
    "---\n",
    "\n",
    "![](./img/p-value.jpg)"
   ]
  },
  {
   "cell_type": "code",
   "execution_count": 1,
   "id": "2ca538ac",
   "metadata": {},
   "outputs": [],
   "source": [
    "import pandas as pd\n",
    "import numpy as np\n",
    "import matplotlib.pyplot as plt"
   ]
  },
  {
   "cell_type": "code",
   "execution_count": 2,
   "id": "3cb36c99",
   "metadata": {},
   "outputs": [],
   "source": [
    "data = pd.read_csv('SOCR-HeightWeight.csv')"
   ]
  },
  {
   "cell_type": "code",
   "execution_count": 3,
   "id": "31d53bec",
   "metadata": {},
   "outputs": [
    {
     "data": {
      "text/html": [
       "<div>\n",
       "<style scoped>\n",
       "    .dataframe tbody tr th:only-of-type {\n",
       "        vertical-align: middle;\n",
       "    }\n",
       "\n",
       "    .dataframe tbody tr th {\n",
       "        vertical-align: top;\n",
       "    }\n",
       "\n",
       "    .dataframe thead th {\n",
       "        text-align: right;\n",
       "    }\n",
       "</style>\n",
       "<table border=\"1\" class=\"dataframe\">\n",
       "  <thead>\n",
       "    <tr style=\"text-align: right;\">\n",
       "      <th></th>\n",
       "      <th>Index</th>\n",
       "      <th>Height(Inches)</th>\n",
       "      <th>Weight(Pounds)</th>\n",
       "    </tr>\n",
       "  </thead>\n",
       "  <tbody>\n",
       "    <tr>\n",
       "      <th>0</th>\n",
       "      <td>1</td>\n",
       "      <td>65.78331</td>\n",
       "      <td>112.9925</td>\n",
       "    </tr>\n",
       "    <tr>\n",
       "      <th>1</th>\n",
       "      <td>2</td>\n",
       "      <td>71.51521</td>\n",
       "      <td>136.4873</td>\n",
       "    </tr>\n",
       "    <tr>\n",
       "      <th>2</th>\n",
       "      <td>3</td>\n",
       "      <td>69.39874</td>\n",
       "      <td>153.0269</td>\n",
       "    </tr>\n",
       "    <tr>\n",
       "      <th>3</th>\n",
       "      <td>4</td>\n",
       "      <td>68.21660</td>\n",
       "      <td>142.3354</td>\n",
       "    </tr>\n",
       "    <tr>\n",
       "      <th>4</th>\n",
       "      <td>5</td>\n",
       "      <td>67.78781</td>\n",
       "      <td>144.2971</td>\n",
       "    </tr>\n",
       "  </tbody>\n",
       "</table>\n",
       "</div>"
      ],
      "text/plain": [
       "   Index  Height(Inches)  Weight(Pounds)\n",
       "0      1        65.78331        112.9925\n",
       "1      2        71.51521        136.4873\n",
       "2      3        69.39874        153.0269\n",
       "3      4        68.21660        142.3354\n",
       "4      5        67.78781        144.2971"
      ]
     },
     "execution_count": 3,
     "metadata": {},
     "output_type": "execute_result"
    }
   ],
   "source": [
    "data.head()"
   ]
  },
  {
   "cell_type": "code",
   "execution_count": 4,
   "id": "8008866e",
   "metadata": {},
   "outputs": [],
   "source": [
    "pop = data['Weight(Pounds)']"
   ]
  },
  {
   "cell_type": "code",
   "execution_count": 7,
   "id": "69b0b7e3",
   "metadata": {},
   "outputs": [
    {
     "name": "stdout",
     "output_type": "stream",
     "text": [
      "Population Mean: 127.07942116080001\n",
      "Population Std: 11.660897563604287\n"
     ]
    }
   ],
   "source": [
    "print(\"Population Mean:\", pop.mean())\n",
    "print(\"Population Std:\",pop.std())"
   ]
  },
  {
   "cell_type": "code",
   "execution_count": null,
   "id": "90044a8e",
   "metadata": {},
   "outputs": [
    {
     "data": {
      "text/plain": [
       "128.643407"
      ]
     },
     "execution_count": 9,
     "metadata": {},
     "output_type": "execute_result"
    }
   ],
   "source": [
    "sample = pop.sample(100)"
   ]
  },
  {
   "cell_type": "code",
   "execution_count": 10,
   "id": "714a5693",
   "metadata": {},
   "outputs": [
    {
     "name": "stdout",
     "output_type": "stream",
     "text": [
      "Population Mean: 128.643407\n",
      "Population Std: 10.885129915755707\n"
     ]
    }
   ],
   "source": [
    "print(\"Population Mean:\", sample.mean())\n",
    "print(\"Population Std:\",sample.std())"
   ]
  },
  {
   "cell_type": "markdown",
   "id": "4f257e60",
   "metadata": {},
   "source": [
    "## 🧩 Hypothesis Setup\n",
    "\n",
    "We are performing a **one-sample hypothesis test** to determine whether our sample mean is significantly different from the population mean.\n",
    "\n",
    "### Given Information:\n",
    "- Sample Mean (x̄) = 128.643407  \n",
    "- Population Mean (μ₀) = 127.07942116080001  \n",
    "- Population Standard Deviation (σ) = 11.660897563604287  \n",
    "- Significance Level (α) = 0.05  \n",
    "\n",
    "### Objective:\n",
    "To test whether the sample mean is significantly different from the population mean.\n",
    "\n",
    "### Hypotheses:\n",
    "\n",
    "- **Null Hypothesis (H₀):**  \n",
    "  The sample mean is equal to the population mean.  \n",
    "  $$\n",
    "  H_0 : \\mu = 127.0794\n",
    "  $$\n",
    "\n",
    "- **Alternative Hypothesis (H₁):**  \n",
    "  The sample mean is not equal to the population mean.  \n",
    "  $$\n",
    "  H_1 : \\mu \\neq 127.0794\n",
    "  $$\n",
    "\n",
    "This is a **two-tailed test**, since we are checking for any significant difference (either higher or lower).\n",
    "\n",
    "---\n",
    "\n",
    "Next, we will calculate the **test statistic (z)** and the corresponding **p-value** to decide whether to reject or fail to reject the null hypothesis.\n"
   ]
  },
  {
   "cell_type": "code",
   "execution_count": null,
   "id": "191d5a96",
   "metadata": {},
   "outputs": [],
   "source": []
  }
 ],
 "metadata": {
  "kernelspec": {
   "display_name": "base",
   "language": "python",
   "name": "python3"
  },
  "language_info": {
   "codemirror_mode": {
    "name": "ipython",
    "version": 3
   },
   "file_extension": ".py",
   "mimetype": "text/x-python",
   "name": "python",
   "nbconvert_exporter": "python",
   "pygments_lexer": "ipython3",
   "version": "3.11.11"
  }
 },
 "nbformat": 4,
 "nbformat_minor": 5
}
