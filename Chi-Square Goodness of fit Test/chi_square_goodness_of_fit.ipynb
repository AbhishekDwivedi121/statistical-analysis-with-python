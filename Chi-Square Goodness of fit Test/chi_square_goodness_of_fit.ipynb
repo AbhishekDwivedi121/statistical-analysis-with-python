{
 "cells": [
  {
   "cell_type": "markdown",
   "id": "4423adf8",
   "metadata": {},
   "source": [
    "# 📘 Chi-Square Goodness of Fit Test\n",
    "\n",
    "---\n",
    "\n",
    "### 🔹 **Purpose**\n",
    "The Chi-Square Goodness of Fit Test is used to determine whether  \n",
    "the **observed frequencies (actual data)** differ significantly from  \n",
    "the **expected frequencies (theoretical or assumed data)**.\n",
    "\n",
    "---\n",
    "\n",
    "### 🔹 **Formula**\n",
    "\n",
    "$$\n",
    "\\chi^2 = \\sum \\frac{(O_i - E_i)^2}{E_i}\n",
    "$$\n",
    "\n",
    "Where:  \n",
    "- \\( O_i \\) = Observed frequency for category *i*  \n",
    "- \\( E_i \\) = Expected frequency for category *i*  \n",
    "- \\( \\chi^2 \\) = Chi-Square statistic  \n",
    "\n",
    "---\n",
    "\n",
    "### 🔹 **Hypotheses**\n",
    "\n",
    "- **Null Hypothesis (H₀):** Observed distribution = Expected distribution  \n",
    "- **Alternative Hypothesis (H₁):** Observed distribution ≠ Expected distribution  \n",
    "\n",
    "---\n",
    "\n",
    "### 🔹 **Decision Rule**\n",
    "\n",
    "1. Calculate \\( $\\chi^2$ \\) using the formula.  \n",
    "2. Find the **critical value** from the Chi-Square distribution table  \n",
    "   based on your significance level (α = 0.05, for example)  \n",
    "   and degrees of freedom \\( df = k - 1 \\) (where *k* = number of categories).  \n",
    "3. If \\( \\chi^2_{calculated} > \\chi^2_{critical} \\):  \n",
    "   → **Reject H₀** (there is a significant difference).  \n",
    "4. Otherwise:  \n",
    "   → **Fail to Reject H₀** (no significant difference).\n",
    "\n",
    "***\n"
   ]
  },
  {
   "cell_type": "code",
   "execution_count": 1,
   "id": "65a4176e",
   "metadata": {},
   "outputs": [],
   "source": [
    "import pandas as pd\n",
    "import random\n",
    "import numpy as np\n",
    "from scipy.stats import chi2, stats"
   ]
  },
  {
   "cell_type": "code",
   "execution_count": 2,
   "id": "938792ba",
   "metadata": {},
   "outputs": [],
   "source": [
    "#Simulate dice rolls (random experiment)\n",
    "# Here we roll a fair dice 120 times, so each number (1–6) can appear randomly.\n",
    "dice_roll = []\n",
    "for i in range(120):\n",
    "    dice_roll.append(random.randint(1, 6))\n"
   ]
  },
  {
   "cell_type": "code",
   "execution_count": 3,
   "id": "11278655",
   "metadata": {},
   "outputs": [
    {
     "data": {
      "text/plain": [
       "1    26\n",
       "2    22\n",
       "3    17\n",
       "4    21\n",
       "5    16\n",
       "6    18\n",
       "Name: count, dtype: int64"
      ]
     },
     "execution_count": 3,
     "metadata": {},
     "output_type": "execute_result"
    }
   ],
   "source": [
    "#Count the frequency of each face (1 to 6)\n",
    "observed = pd.Series(dice_roll).value_counts().sort_index()\n",
    "observed"
   ]
  },
  {
   "cell_type": "code",
   "execution_count": 4,
   "id": "6b6fccfe",
   "metadata": {},
   "outputs": [
    {
     "data": {
      "text/plain": [
       "array([20., 20., 20., 20., 20., 20.])"
      ]
     },
     "execution_count": 4,
     "metadata": {},
     "output_type": "execute_result"
    }
   ],
   "source": [
    "# Define the expected frequency for a fair dice\n",
    "expected = np.full(6, len(dice_roll) / 6)\n",
    "expected"
   ]
  },
  {
   "cell_type": "code",
   "execution_count": 5,
   "id": "f46013e6",
   "metadata": {},
   "outputs": [],
   "source": [
    "def goodness_of_fit(observed, expected):\n",
    "    chi_square = 0\n",
    "    for o, e in zip(observed, expected):\n",
    "        chi_square += ((o - e) ** 2) / e\n",
    "        \n",
    "    P_value = chi2.cdf(chi_square, (len(observed) - 1))\n",
    "    return chi_square, P_value"
   ]
  },
  {
   "cell_type": "code",
   "execution_count": 6,
   "id": "4c016a16",
   "metadata": {},
   "outputs": [
    {
     "name": "stdout",
     "output_type": "stream",
     "text": [
      "(3.5, 0.3766123722504178)\n",
      "✅ Dice is likely fair (uniform distribution).\n"
     ]
    }
   ],
   "source": [
    "print(goodness_of_fit(observed, expected))\n",
    "if (1 - goodness_of_fit(observed, expected)[1]) < 0.05:\n",
    "    print(\"❌ Dice may not be fair (not uniform).\")\n",
    "else:\n",
    "    print(\"✅ Dice is likely fair (uniform distribution).\")"
   ]
  },
  {
   "cell_type": "markdown",
   "id": "749a4ff3",
   "metadata": {},
   "source": [
    "## 🧾 Chi-Square Test Example: Shopkeeper’s Sales Analysis\n",
    "\n",
    "---\n",
    "\n",
    "### 🎯 Problem Statement\n",
    "\n",
    "A shopkeeper sells three items — **shirts**, **pants**, and **T-shirt**.  \n",
    "He claims that all three items sell equally well.  \n",
    "\n",
    "We will test his claim using **one day’s sales data** to see  \n",
    "whether the sales follow a **uniform distribution** (i.e., all items sell equally) or not.\n",
    "\n",
    "---"
   ]
  },
  {
   "cell_type": "code",
   "execution_count": 51,
   "id": "4862d647",
   "metadata": {},
   "outputs": [],
   "source": [
    "products = (['shirt'] * 80) + (['pants'] * 70) + (['t-shirt'] * 50)"
   ]
  },
  {
   "cell_type": "code",
   "execution_count": 52,
   "id": "2d584c94",
   "metadata": {},
   "outputs": [
    {
     "data": {
      "text/html": [
       "<div>\n",
       "<style scoped>\n",
       "    .dataframe tbody tr th:only-of-type {\n",
       "        vertical-align: middle;\n",
       "    }\n",
       "\n",
       "    .dataframe tbody tr th {\n",
       "        vertical-align: top;\n",
       "    }\n",
       "\n",
       "    .dataframe thead th {\n",
       "        text-align: right;\n",
       "    }\n",
       "</style>\n",
       "<table border=\"1\" class=\"dataframe\">\n",
       "  <thead>\n",
       "    <tr style=\"text-align: right;\">\n",
       "      <th></th>\n",
       "      <th>Products</th>\n",
       "    </tr>\n",
       "  </thead>\n",
       "  <tbody>\n",
       "    <tr>\n",
       "      <th>0</th>\n",
       "      <td>shirt</td>\n",
       "    </tr>\n",
       "    <tr>\n",
       "      <th>1</th>\n",
       "      <td>shirt</td>\n",
       "    </tr>\n",
       "    <tr>\n",
       "      <th>2</th>\n",
       "      <td>shirt</td>\n",
       "    </tr>\n",
       "    <tr>\n",
       "      <th>3</th>\n",
       "      <td>shirt</td>\n",
       "    </tr>\n",
       "    <tr>\n",
       "      <th>4</th>\n",
       "      <td>shirt</td>\n",
       "    </tr>\n",
       "  </tbody>\n",
       "</table>\n",
       "</div>"
      ],
      "text/plain": [
       "  Products\n",
       "0    shirt\n",
       "1    shirt\n",
       "2    shirt\n",
       "3    shirt\n",
       "4    shirt"
      ]
     },
     "execution_count": 52,
     "metadata": {},
     "output_type": "execute_result"
    }
   ],
   "source": [
    "data = pd.DataFrame({'Products' : products})\n",
    "data.head()"
   ]
  },
  {
   "cell_type": "code",
   "execution_count": 53,
   "id": "ec37a632",
   "metadata": {},
   "outputs": [
    {
     "data": {
      "text/plain": [
       "Products\n",
       "shirt      80\n",
       "pants      70\n",
       "t-shirt    50\n",
       "Name: count, dtype: int64"
      ]
     },
     "execution_count": 53,
     "metadata": {},
     "output_type": "execute_result"
    }
   ],
   "source": [
    "data['Products'].value_counts()"
   ]
  },
  {
   "cell_type": "code",
   "execution_count": 54,
   "id": "17085cc1",
   "metadata": {},
   "outputs": [],
   "source": [
    "df = data['Products'].value_counts().reset_index()\n",
    "df.columns = ['Products', 'Observed Sales']"
   ]
  },
  {
   "cell_type": "code",
   "execution_count": 55,
   "id": "cbb320c4",
   "metadata": {},
   "outputs": [],
   "source": [
    "df['Expected'] = int(200/ 3)"
   ]
  },
  {
   "cell_type": "code",
   "execution_count": 56,
   "id": "b79191cb",
   "metadata": {},
   "outputs": [
    {
     "data": {
      "text/html": [
       "<div>\n",
       "<style scoped>\n",
       "    .dataframe tbody tr th:only-of-type {\n",
       "        vertical-align: middle;\n",
       "    }\n",
       "\n",
       "    .dataframe tbody tr th {\n",
       "        vertical-align: top;\n",
       "    }\n",
       "\n",
       "    .dataframe thead th {\n",
       "        text-align: right;\n",
       "    }\n",
       "</style>\n",
       "<table border=\"1\" class=\"dataframe\">\n",
       "  <thead>\n",
       "    <tr style=\"text-align: right;\">\n",
       "      <th></th>\n",
       "      <th>Products</th>\n",
       "      <th>Observed Sales</th>\n",
       "      <th>Expected</th>\n",
       "    </tr>\n",
       "  </thead>\n",
       "  <tbody>\n",
       "    <tr>\n",
       "      <th>0</th>\n",
       "      <td>shirt</td>\n",
       "      <td>80</td>\n",
       "      <td>66</td>\n",
       "    </tr>\n",
       "    <tr>\n",
       "      <th>1</th>\n",
       "      <td>pants</td>\n",
       "      <td>70</td>\n",
       "      <td>66</td>\n",
       "    </tr>\n",
       "    <tr>\n",
       "      <th>2</th>\n",
       "      <td>t-shirt</td>\n",
       "      <td>50</td>\n",
       "      <td>66</td>\n",
       "    </tr>\n",
       "  </tbody>\n",
       "</table>\n",
       "</div>"
      ],
      "text/plain": [
       "  Products  Observed Sales  Expected\n",
       "0    shirt              80        66\n",
       "1    pants              70        66\n",
       "2  t-shirt              50        66"
      ]
     },
     "execution_count": 56,
     "metadata": {},
     "output_type": "execute_result"
    }
   ],
   "source": [
    "df.head()"
   ]
  },
  {
   "cell_type": "code",
   "execution_count": null,
   "id": "ee7d6666",
   "metadata": {},
   "outputs": [
    {
     "name": "stdout",
     "output_type": "stream",
     "text": [
      "(7.090909090909091, 0.9711444966096118)\n",
      "❌ Dice may not be fair (not uniform).\n"
     ]
    }
   ],
   "source": [
    "def goodness_of_fit(observed, expected):\n",
    "    chi_square = 0\n",
    "    for o, e in zip(observed, expected):\n",
    "        chi_square += ((o - e) ** 2) / e\n",
    "        \n",
    "    P_value = chi2.cdf(chi_square, (len(observed) - 1))\n",
    "    return chi_square, P_value\n",
    "\n",
    "\n",
    "\n",
    "print(goodness_of_fit(df['Observed Sales'], df['Expected']))\n",
    "if (1 - goodness_of_fit(df['Observed Sales'],df['Expected'])[1]) < 0.05:\n",
    "    print(\"❌ The shopkeeper's claims rejected.\")\n",
    "else:\n",
    "    print(\"✅ The shopkeeper's claims accpted.\")"
   ]
  }
 ],
 "metadata": {
  "kernelspec": {
   "display_name": "base",
   "language": "python",
   "name": "python3"
  },
  "language_info": {
   "codemirror_mode": {
    "name": "ipython",
    "version": 3
   },
   "file_extension": ".py",
   "mimetype": "text/x-python",
   "name": "python",
   "nbconvert_exporter": "python",
   "pygments_lexer": "ipython3",
   "version": "3.11.11"
  }
 },
 "nbformat": 4,
 "nbformat_minor": 5
}
