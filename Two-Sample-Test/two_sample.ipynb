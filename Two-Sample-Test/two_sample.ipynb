{
 "cells": [
  {
   "cell_type": "markdown",
   "id": "d8bb4571",
   "metadata": {},
   "source": [
    "# **Two-Sample t-Test**\n",
    "\n",
    "A **two-sample t-test** checks whether the means of two independent samples are significantly different from each other.\n",
    "\n",
    "---\n",
    "\n",
    "## **1. Hypotheses**\n",
    "\n",
    "**Null Hypothesis (H₀):**  \n",
    "Mean of group 1 = Mean of group 2  \n",
    "$$\n",
    "H_0: \\mu_1 = \\mu_2\n",
    "$$\n",
    "\n",
    "**Alternative Hypothesis (H₁):**  \n",
    "Means are not equal  \n",
    "$$\n",
    "H_1: \\mu_1 \\neq \\mu_2\n",
    "$$\n",
    "\n",
    "---\n",
    "\n",
    "## **2. Test Statistic**\n",
    "\n",
    "### **(a) Equal Variances Assumed (Pooled t-test)**\n",
    "\n",
    "$$\n",
    "t = \\dfrac{\\bar{X}_1 - \\bar{X}_2}{S_p \\sqrt{\\dfrac{1}{n_1} + \\dfrac{1}{n_2}}}\n",
    "$$\n",
    "\n",
    "where  \n",
    "\n",
    "$$\n",
    "S_p = \\sqrt{\\dfrac{(n_1 - 1)S_1^2 + (n_2 - 1)S_2^2}{n_1 + n_2 - 2}}\n",
    "$$\n",
    "\n",
    "---\n",
    "\n",
    "### **(b) Unequal Variances Assumed (Welch’s t-test)**\n",
    "\n",
    "$$\n",
    "t = \\dfrac{\\bar{X}_1 - \\bar{X}_2}{\\sqrt{\\dfrac{S_1^2}{n_1} + \\dfrac{S_2^2}{n_2}}}\n",
    "$$\n",
    "\n",
    "Degrees of freedom are approximated by:\n",
    "\n",
    "$$\n",
    "df = \\dfrac{\\left(\\dfrac{S_1^2}{n_1} + \\dfrac{S_2^2}{n_2}\\right)^2}\n",
    "{\\dfrac{\\left(\\dfrac{S_1^2}{n_1}\\right)^2}{n_1 - 1} + \\dfrac{\\left(\\dfrac{S_2^2}{n_2}\\right)^2}{n_2 - 1}}\n",
    "$$\n",
    "\n",
    "---\n",
    "\n",
    "## **3. Degrees of Freedom (Equal Variance Case)**\n",
    "\n",
    "$$\n",
    "df = n_1 + n_2 - 2\n",
    "$$\n",
    "\n",
    "---\n",
    "\n",
    "## **4. Decision Rule**\n",
    "\n",
    "If  \n",
    "$$\n",
    "|t_{calculated}| > t_{critical}\n",
    "$$  \n",
    "→ **Reject H₀** (significant difference between means)\n",
    "\n",
    "Otherwise → **Fail to reject H₀** (no significant difference)\n",
    "\n",
    "---\n"
   ]
  },
  {
   "cell_type": "code",
   "execution_count": 1,
   "id": "55a9df2b",
   "metadata": {},
   "outputs": [],
   "source": [
    "import pandas as pd\n",
    "import numpy as np\n",
    "from scipy.stats import stats, t"
   ]
  },
  {
   "cell_type": "code",
   "execution_count": 2,
   "id": "10bdf195",
   "metadata": {},
   "outputs": [],
   "source": [
    "data = pd.read_csv('weights_equal.csv')"
   ]
  },
  {
   "cell_type": "code",
   "execution_count": 3,
   "id": "56cbf4ed",
   "metadata": {},
   "outputs": [],
   "source": [
    "male_pop = data[data['Gender'] =='Male']\n",
    "female_pop = data[data['Gender'] =='Female']"
   ]
  },
  {
   "cell_type": "code",
   "execution_count": 4,
   "id": "485aa8d0",
   "metadata": {},
   "outputs": [
    {
     "data": {
      "text/html": [
       "<div>\n",
       "<style scoped>\n",
       "    .dataframe tbody tr th:only-of-type {\n",
       "        vertical-align: middle;\n",
       "    }\n",
       "\n",
       "    .dataframe tbody tr th {\n",
       "        vertical-align: top;\n",
       "    }\n",
       "\n",
       "    .dataframe thead th {\n",
       "        text-align: right;\n",
       "    }\n",
       "</style>\n",
       "<table border=\"1\" class=\"dataframe\">\n",
       "  <thead>\n",
       "    <tr style=\"text-align: right;\">\n",
       "      <th></th>\n",
       "      <th>Gender</th>\n",
       "      <th>Weight</th>\n",
       "    </tr>\n",
       "  </thead>\n",
       "  <tbody>\n",
       "    <tr>\n",
       "      <th>100</th>\n",
       "      <td>Female</td>\n",
       "      <td>64.197035</td>\n",
       "    </tr>\n",
       "    <tr>\n",
       "      <th>101</th>\n",
       "      <td>Female</td>\n",
       "      <td>66.078733</td>\n",
       "    </tr>\n",
       "    <tr>\n",
       "      <th>102</th>\n",
       "      <td>Female</td>\n",
       "      <td>75.231055</td>\n",
       "    </tr>\n",
       "    <tr>\n",
       "      <th>103</th>\n",
       "      <td>Female</td>\n",
       "      <td>74.272592</td>\n",
       "    </tr>\n",
       "    <tr>\n",
       "      <th>104</th>\n",
       "      <td>Female</td>\n",
       "      <td>69.853689</td>\n",
       "    </tr>\n",
       "    <tr>\n",
       "      <th>...</th>\n",
       "      <td>...</td>\n",
       "      <td>...</td>\n",
       "    </tr>\n",
       "    <tr>\n",
       "      <th>195</th>\n",
       "      <td>Female</td>\n",
       "      <td>66.715770</td>\n",
       "    </tr>\n",
       "    <tr>\n",
       "      <th>196</th>\n",
       "      <td>Female</td>\n",
       "      <td>58.008058</td>\n",
       "    </tr>\n",
       "    <tr>\n",
       "      <th>197</th>\n",
       "      <td>Female</td>\n",
       "      <td>79.477107</td>\n",
       "    </tr>\n",
       "    <tr>\n",
       "      <th>198</th>\n",
       "      <td>Female</td>\n",
       "      <td>69.198221</td>\n",
       "    </tr>\n",
       "    <tr>\n",
       "      <th>199</th>\n",
       "      <td>Female</td>\n",
       "      <td>78.664714</td>\n",
       "    </tr>\n",
       "  </tbody>\n",
       "</table>\n",
       "<p>100 rows × 2 columns</p>\n",
       "</div>"
      ],
      "text/plain": [
       "     Gender     Weight\n",
       "100  Female  64.197035\n",
       "101  Female  66.078733\n",
       "102  Female  75.231055\n",
       "103  Female  74.272592\n",
       "104  Female  69.853689\n",
       "..      ...        ...\n",
       "195  Female  66.715770\n",
       "196  Female  58.008058\n",
       "197  Female  79.477107\n",
       "198  Female  69.198221\n",
       "199  Female  78.664714\n",
       "\n",
       "[100 rows x 2 columns]"
      ]
     },
     "execution_count": 4,
     "metadata": {},
     "output_type": "execute_result"
    }
   ],
   "source": [
    "female_pop"
   ]
  },
  {
   "cell_type": "code",
   "execution_count": 5,
   "id": "71f18e5e",
   "metadata": {},
   "outputs": [],
   "source": [
    "sample_m = male_pop['Weight'].sample(30)\n",
    "sample_f = female_pop['Weight'].sample(30)"
   ]
  },
  {
   "cell_type": "code",
   "execution_count": 6,
   "id": "52fd4c76",
   "metadata": {},
   "outputs": [
    {
     "data": {
      "text/plain": [
       "70.2152640214999"
      ]
     },
     "execution_count": 6,
     "metadata": {},
     "output_type": "execute_result"
    }
   ],
   "source": [
    "sample_f.mean()"
   ]
  },
  {
   "cell_type": "code",
   "execution_count": 7,
   "id": "36dccf15",
   "metadata": {},
   "outputs": [
    {
     "data": {
      "text/plain": [
       "70.93338169432997"
      ]
     },
     "execution_count": 7,
     "metadata": {},
     "output_type": "execute_result"
    }
   ],
   "source": [
    "sample_m.mean()"
   ]
  },
  {
   "cell_type": "code",
   "execution_count": 40,
   "id": "a05acdb5",
   "metadata": {},
   "outputs": [],
   "source": [
    "def T_Pooled_test(sample_1, sample_2, tails):\n",
    "    neumerator = sample_1.mean() - sample_2.mean()\n",
    "    df = ( (len(sample_1) + len(sample_2)) - 2)\n",
    "    \n",
    "    \n",
    "    se = (((len(sample_1) - 1) * sample_1.var()) + ((len(sample_2) - 1) * sample_2.var()))\n",
    "    se = se / ((len(sample_1) + len(sample_2)) - 2)\n",
    "    se = np.sqrt(se)\n",
    "    \n",
    "    \n",
    "    denumerator = se * np.sqrt(((1/len(sample_1)) + 1/len(sample_2)))\n",
    "    T_value = neumerator / denumerator\n",
    "    return T_value, p_value(T_value, tails, df)\n",
    "    \n",
    "    \n",
    "    \n",
    "def p_value(t_value, tails, df):\n",
    "    if tails == 2:\n",
    "        p_value = tails * (1 - t.cdf(abs(t_value), df))\n",
    "    else:\n",
    "        p_value =  t.cdf(t_value, df)\n",
    "    return p_value\n",
    "    "
   ]
  },
  {
   "cell_type": "code",
   "execution_count": 41,
   "id": "9b583197",
   "metadata": {},
   "outputs": [
    {
     "name": "stdout",
     "output_type": "stream",
     "text": [
      "(0.3876720287954892, 0.6501610726280675)\n",
      "Right side area 0.34983892737193245\n",
      "Left side area 0.6501610726280675\n"
     ]
    }
   ],
   "source": [
    "print(T_Pooled_test(sample_m, sample_f, 1))\n",
    "print(\"Right side area\", 1-(T_Pooled_test(sample_m, sample_f, 1)[1]))\n",
    "print(\"Left side area\", (T_Pooled_test(sample_m, sample_f, 1)[1]))"
   ]
  },
  {
   "cell_type": "code",
   "execution_count": 10,
   "id": "d65ff7a3",
   "metadata": {},
   "outputs": [
    {
     "name": "stdout",
     "output_type": "stream",
     "text": [
      "Two tail test (0.3876720287954892, 0.6996778547438649)\n"
     ]
    }
   ],
   "source": [
    "print(\"Two tail test\",T_Pooled_test(sample_m, sample_f, 2))"
   ]
  },
  {
   "cell_type": "markdown",
   "id": "a488f126",
   "metadata": {},
   "source": [
    "## **Welch’s t-Test (Unequal Variance Case)**\n",
    "\n",
    "Now, we perform a **two-sample t-test** assuming **unequal variances**.\n",
    "\n",
    "This is called **Welch’s t-test**.  \n",
    "It is used when the variances of the two samples are not equal.\n",
    "\n",
    "The test statistic is:\n",
    "\n",
    "$$\n",
    "t = \\frac{\\bar{X}_1 - \\bar{X}_2}{\n",
    "\\sqrt{\\frac{S_1^2}{n_1} + \\frac{S_2^2}{n_2}}\n",
    "}\n",
    "$$\n",
    "\n",
    "and the degrees of freedom are estimated using the **Welch–Satterthwaite equation**:\n",
    "\n",
    "$$\n",
    "df = \n",
    "\\frac{\n",
    "\\left(\\frac{S_1^2}{n_1} + \\frac{S_2^2}{n_2}\\right)^2\n",
    "}{\n",
    "\\frac{\\left(\\frac{S_1^2}{n_1}\\right)^2}{n_1 - 1} +\n",
    "\\frac{\\left(\\frac{S_2^2}{n_2}\\right)^2}{n_2 - 1}\n",
    "}\n",
    "$$\n"
   ]
  },
  {
   "cell_type": "code",
   "execution_count": 45,
   "id": "9554f97b",
   "metadata": {},
   "outputs": [
    {
     "name": "stdout",
     "output_type": "stream",
     "text": [
      "(0.3811560684462428, 0.6476466638789968, 49.864230625800445)\n",
      "Right side area 0.35235333612100317\n",
      "Left side area 0.6476466638789968\n"
     ]
    }
   ],
   "source": [
    "def T_welchs_test(sample_1, sample_2, tails):\n",
    "    neumerator = (sample_1.mean() - sample_2.mean())\n",
    "    denumerator = np.sqrt(((sample_1.var() / (len(sample_1) - 1)) + (sample_2.var() / (len(sample_2) - 1))))\n",
    "    T_value = neumerator / denumerator\n",
    "    return T_value, P_value(T_value, degree_of_freedom(sample_1, sample_2), tails), degree_of_freedom(sample_1, sample_2)\n",
    "    \n",
    "def degree_of_freedom(sample_1, sample_2):\n",
    "    neumerator = ((sample_1.var() / len(sample_1)) + (sample_2.var() / len(sample_2))) ** 2\n",
    "    denumerator = ((((sample_1.var() / len(sample_1)) ** 2) / (len(sample_1) - 1)) + (((sample_2.var() / len(sample_2)) ** 2) / (len(sample_2) - 1)))\n",
    "    df = neumerator / denumerator\n",
    "    return df\n",
    "def P_value(T_value, df, tails):\n",
    "    if tails == 2:\n",
    "        P_value = tails * (1 - t.cdf(abs(T_value), df))\n",
    "    else:\n",
    "        P_value = t.cdf(T_value, df)\n",
    "    return P_value\n",
    "print(T_welchs_test(sample_m, sample_f, 1))\n",
    "print(\"Right side area\", 1-(T_welchs_test(sample_m, sample_f, 1)[1]))\n",
    "print(\"Left side area\", (T_welchs_test(sample_m, sample_f, 1)[1]))"
   ]
  },
  {
   "cell_type": "code",
   "execution_count": 43,
   "id": "3acc24cb",
   "metadata": {},
   "outputs": [
    {
     "name": "stdout",
     "output_type": "stream",
     "text": [
      "(0.3876720287954892, 0.6501610726280675)\n"
     ]
    }
   ],
   "source": [
    "print(T_Pooled_test(sample_m, sample_f, 1))"
   ]
  },
  {
   "cell_type": "code",
   "execution_count": 32,
   "id": "2082e44a",
   "metadata": {},
   "outputs": [
    {
     "name": "stderr",
     "output_type": "stream",
     "text": [
      "C:\\Users\\bittu\\AppData\\Local\\Temp\\ipykernel_13832\\3161199544.py:1: DeprecationWarning: Please import `ttest_ind` from the `scipy.stats` namespace; the `scipy.stats.stats` namespace is deprecated and will be removed in SciPy 2.0.0.\n",
      "  stats.ttest_ind(sample_m, sample_f, equal_var=False)\n"
     ]
    },
    {
     "data": {
      "text/plain": [
       "TtestResult(statistic=0.3876720287954892, pvalue=0.6999087110789854, df=49.864230625800445)"
      ]
     },
     "execution_count": 32,
     "metadata": {},
     "output_type": "execute_result"
    }
   ],
   "source": [
    "stats.ttest_ind(sample_m, sample_f, equal_var=False)"
   ]
  },
  {
   "cell_type": "code",
   "execution_count": 33,
   "id": "6c85c2e6",
   "metadata": {},
   "outputs": [
    {
     "name": "stderr",
     "output_type": "stream",
     "text": [
      "C:\\Users\\bittu\\AppData\\Local\\Temp\\ipykernel_13832\\480581880.py:1: DeprecationWarning: Please import `ttest_ind` from the `scipy.stats` namespace; the `scipy.stats.stats` namespace is deprecated and will be removed in SciPy 2.0.0.\n",
      "  stats.ttest_ind(sample_m, sample_f, equal_var=True)\n"
     ]
    },
    {
     "data": {
      "text/plain": [
       "TtestResult(statistic=0.3876720287954891, pvalue=0.6996778547438651, df=58.0)"
      ]
     },
     "execution_count": 33,
     "metadata": {},
     "output_type": "execute_result"
    }
   ],
   "source": [
    "stats.ttest_ind(sample_m, sample_f, equal_var=True)"
   ]
  },
  {
   "cell_type": "code",
   "execution_count": null,
   "id": "ea4282ef",
   "metadata": {},
   "outputs": [],
   "source": []
  }
 ],
 "metadata": {
  "kernelspec": {
   "display_name": "base",
   "language": "python",
   "name": "python3"
  },
  "language_info": {
   "codemirror_mode": {
    "name": "ipython",
    "version": 3
   },
   "file_extension": ".py",
   "mimetype": "text/x-python",
   "name": "python",
   "nbconvert_exporter": "python",
   "pygments_lexer": "ipython3",
   "version": "3.11.11"
  }
 },
 "nbformat": 4,
 "nbformat_minor": 5
}
