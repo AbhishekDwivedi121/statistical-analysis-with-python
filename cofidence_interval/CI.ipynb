{
 "cells": [
  {
   "cell_type": "markdown",
   "id": "4616e335",
   "metadata": {},
   "source": [
    "# 🧪 Hypothesis Testing on Weight & Height Dataset\n",
    "*Exploring population, random sampling, and hypothesis testing using Python*\n"
   ]
  },
  {
   "cell_type": "code",
   "execution_count": 45,
   "id": "f5d543bb",
   "metadata": {},
   "outputs": [],
   "source": [
    "import pandas as pd\n",
    "import matplotlib.pyplot as plt\n",
    "import numpy as np"
   ]
  },
  {
   "cell_type": "markdown",
   "id": "2236b6e7",
   "metadata": {},
   "source": [
    "## Introduction\n",
    "In this notebook, we treat a dataset of 25,000 people's Height and Weight as the population.  \n",
    "We will:\n",
    "- Explore the population statistics\n",
    "- Draw random samples\n",
    "- Demonstrate Central Limit Theorem\n",
    "- Perform Z-test & T-test\n",
    "- Visualize results\n"
   ]
  },
  {
   "cell_type": "code",
   "execution_count": 46,
   "id": "1bb77382",
   "metadata": {},
   "outputs": [],
   "source": [
    "data = pd.read_csv('SOCR-HeightWeight.csv')"
   ]
  },
  {
   "cell_type": "code",
   "execution_count": 47,
   "id": "a0113664",
   "metadata": {},
   "outputs": [
    {
     "data": {
      "text/html": [
       "<div>\n",
       "<style scoped>\n",
       "    .dataframe tbody tr th:only-of-type {\n",
       "        vertical-align: middle;\n",
       "    }\n",
       "\n",
       "    .dataframe tbody tr th {\n",
       "        vertical-align: top;\n",
       "    }\n",
       "\n",
       "    .dataframe thead th {\n",
       "        text-align: right;\n",
       "    }\n",
       "</style>\n",
       "<table border=\"1\" class=\"dataframe\">\n",
       "  <thead>\n",
       "    <tr style=\"text-align: right;\">\n",
       "      <th></th>\n",
       "      <th>Index</th>\n",
       "      <th>Height(Inches)</th>\n",
       "      <th>height(Pounds)</th>\n",
       "    </tr>\n",
       "  </thead>\n",
       "  <tbody>\n",
       "    <tr>\n",
       "      <th>0</th>\n",
       "      <td>1</td>\n",
       "      <td>65.78331</td>\n",
       "      <td>112.9925</td>\n",
       "    </tr>\n",
       "    <tr>\n",
       "      <th>1</th>\n",
       "      <td>2</td>\n",
       "      <td>71.51521</td>\n",
       "      <td>136.4873</td>\n",
       "    </tr>\n",
       "    <tr>\n",
       "      <th>2</th>\n",
       "      <td>3</td>\n",
       "      <td>69.39874</td>\n",
       "      <td>153.0269</td>\n",
       "    </tr>\n",
       "    <tr>\n",
       "      <th>3</th>\n",
       "      <td>4</td>\n",
       "      <td>68.21660</td>\n",
       "      <td>142.3354</td>\n",
       "    </tr>\n",
       "    <tr>\n",
       "      <th>4</th>\n",
       "      <td>5</td>\n",
       "      <td>67.78781</td>\n",
       "      <td>144.2971</td>\n",
       "    </tr>\n",
       "  </tbody>\n",
       "</table>\n",
       "</div>"
      ],
      "text/plain": [
       "   Index  Height(Inches)  height(Pounds)\n",
       "0      1        65.78331        112.9925\n",
       "1      2        71.51521        136.4873\n",
       "2      3        69.39874        153.0269\n",
       "3      4        68.21660        142.3354\n",
       "4      5        67.78781        144.2971"
      ]
     },
     "execution_count": 47,
     "metadata": {},
     "output_type": "execute_result"
    }
   ],
   "source": [
    "data.head()"
   ]
  },
  {
   "cell_type": "code",
   "execution_count": 48,
   "id": "f89cd577",
   "metadata": {},
   "outputs": [
    {
     "data": {
      "text/html": [
       "<div>\n",
       "<style scoped>\n",
       "    .dataframe tbody tr th:only-of-type {\n",
       "        vertical-align: middle;\n",
       "    }\n",
       "\n",
       "    .dataframe tbody tr th {\n",
       "        vertical-align: top;\n",
       "    }\n",
       "\n",
       "    .dataframe thead th {\n",
       "        text-align: right;\n",
       "    }\n",
       "</style>\n",
       "<table border=\"1\" class=\"dataframe\">\n",
       "  <thead>\n",
       "    <tr style=\"text-align: right;\">\n",
       "      <th></th>\n",
       "      <th>Index</th>\n",
       "      <th>Height(Inches)</th>\n",
       "      <th>height(Pounds)</th>\n",
       "    </tr>\n",
       "  </thead>\n",
       "  <tbody>\n",
       "    <tr>\n",
       "      <th>count</th>\n",
       "      <td>25000.000000</td>\n",
       "      <td>25000.000000</td>\n",
       "      <td>25000.000000</td>\n",
       "    </tr>\n",
       "    <tr>\n",
       "      <th>mean</th>\n",
       "      <td>12500.500000</td>\n",
       "      <td>67.993114</td>\n",
       "      <td>127.079421</td>\n",
       "    </tr>\n",
       "    <tr>\n",
       "      <th>std</th>\n",
       "      <td>7217.022701</td>\n",
       "      <td>1.901679</td>\n",
       "      <td>11.660898</td>\n",
       "    </tr>\n",
       "    <tr>\n",
       "      <th>min</th>\n",
       "      <td>1.000000</td>\n",
       "      <td>60.278360</td>\n",
       "      <td>78.014760</td>\n",
       "    </tr>\n",
       "    <tr>\n",
       "      <th>25%</th>\n",
       "      <td>6250.750000</td>\n",
       "      <td>66.704397</td>\n",
       "      <td>119.308675</td>\n",
       "    </tr>\n",
       "    <tr>\n",
       "      <th>50%</th>\n",
       "      <td>12500.500000</td>\n",
       "      <td>67.995700</td>\n",
       "      <td>127.157750</td>\n",
       "    </tr>\n",
       "    <tr>\n",
       "      <th>75%</th>\n",
       "      <td>18750.250000</td>\n",
       "      <td>69.272958</td>\n",
       "      <td>134.892850</td>\n",
       "    </tr>\n",
       "    <tr>\n",
       "      <th>max</th>\n",
       "      <td>25000.000000</td>\n",
       "      <td>75.152800</td>\n",
       "      <td>170.924000</td>\n",
       "    </tr>\n",
       "  </tbody>\n",
       "</table>\n",
       "</div>"
      ],
      "text/plain": [
       "              Index  Height(Inches)  height(Pounds)\n",
       "count  25000.000000    25000.000000    25000.000000\n",
       "mean   12500.500000       67.993114      127.079421\n",
       "std     7217.022701        1.901679       11.660898\n",
       "min        1.000000       60.278360       78.014760\n",
       "25%     6250.750000       66.704397      119.308675\n",
       "50%    12500.500000       67.995700      127.157750\n",
       "75%    18750.250000       69.272958      134.892850\n",
       "max    25000.000000       75.152800      170.924000"
      ]
     },
     "execution_count": 48,
     "metadata": {},
     "output_type": "execute_result"
    }
   ],
   "source": [
    "data.describe()"
   ]
  },
  {
   "cell_type": "code",
   "execution_count": 49,
   "id": "63a783e5",
   "metadata": {},
   "outputs": [
    {
     "data": {
      "text/plain": [
       "(25000, 3)"
      ]
     },
     "execution_count": 49,
     "metadata": {},
     "output_type": "execute_result"
    }
   ],
   "source": [
    "data.shape"
   ]
  },
  {
   "cell_type": "code",
   "execution_count": 50,
   "id": "5ec485c1",
   "metadata": {},
   "outputs": [],
   "source": [
    "pop_mean_height = data['Height(Inches)'].mean()\n",
    "pop_std_height = data['Height(Inches)'].std()\n"
   ]
  },
  {
   "cell_type": "code",
   "execution_count": 51,
   "id": "5f603cfd",
   "metadata": {},
   "outputs": [
    {
     "name": "stdout",
     "output_type": "stream",
     "text": [
      "Population Mean Height: 67.99, Std: 1.90\n"
     ]
    }
   ],
   "source": [
    "print(f\"Population Mean Height: {pop_mean_height:.2f}, Std: {pop_std_height:.2f}\")"
   ]
  },
  {
   "cell_type": "code",
   "execution_count": 52,
   "id": "318a7486",
   "metadata": {},
   "outputs": [],
   "source": [
    "sample = data.sample(100, random_state=42)"
   ]
  },
  {
   "cell_type": "code",
   "execution_count": 53,
   "id": "bf79fa7c",
   "metadata": {},
   "outputs": [
    {
     "data": {
      "text/html": [
       "<div>\n",
       "<style scoped>\n",
       "    .dataframe tbody tr th:only-of-type {\n",
       "        vertical-align: middle;\n",
       "    }\n",
       "\n",
       "    .dataframe tbody tr th {\n",
       "        vertical-align: top;\n",
       "    }\n",
       "\n",
       "    .dataframe thead th {\n",
       "        text-align: right;\n",
       "    }\n",
       "</style>\n",
       "<table border=\"1\" class=\"dataframe\">\n",
       "  <thead>\n",
       "    <tr style=\"text-align: right;\">\n",
       "      <th></th>\n",
       "      <th>Index</th>\n",
       "      <th>Height(Inches)</th>\n",
       "      <th>height(Pounds)</th>\n",
       "    </tr>\n",
       "  </thead>\n",
       "  <tbody>\n",
       "    <tr>\n",
       "      <th>6868</th>\n",
       "      <td>6869</td>\n",
       "      <td>68.42447</td>\n",
       "      <td>134.2855</td>\n",
       "    </tr>\n",
       "    <tr>\n",
       "      <th>24016</th>\n",
       "      <td>24017</td>\n",
       "      <td>67.89663</td>\n",
       "      <td>111.9666</td>\n",
       "    </tr>\n",
       "    <tr>\n",
       "      <th>9668</th>\n",
       "      <td>9669</td>\n",
       "      <td>67.65922</td>\n",
       "      <td>135.9871</td>\n",
       "    </tr>\n",
       "    <tr>\n",
       "      <th>13640</th>\n",
       "      <td>13641</td>\n",
       "      <td>69.01299</td>\n",
       "      <td>126.3802</td>\n",
       "    </tr>\n",
       "    <tr>\n",
       "      <th>14018</th>\n",
       "      <td>14019</td>\n",
       "      <td>69.01055</td>\n",
       "      <td>100.1810</td>\n",
       "    </tr>\n",
       "  </tbody>\n",
       "</table>\n",
       "</div>"
      ],
      "text/plain": [
       "       Index  Height(Inches)  height(Pounds)\n",
       "6868    6869        68.42447        134.2855\n",
       "24016  24017        67.89663        111.9666\n",
       "9668    9669        67.65922        135.9871\n",
       "13640  13641        69.01299        126.3802\n",
       "14018  14019        69.01055        100.1810"
      ]
     },
     "execution_count": 53,
     "metadata": {},
     "output_type": "execute_result"
    }
   ],
   "source": [
    "sample.head()"
   ]
  },
  {
   "cell_type": "code",
   "execution_count": 54,
   "id": "34e5e590",
   "metadata": {},
   "outputs": [],
   "source": [
    "sample_mean_height = sample['Height(Inches)'].mean()\n",
    "sample_std_height = sample['Height(Inches)'].std()\n"
   ]
  },
  {
   "cell_type": "code",
   "execution_count": 55,
   "id": "b2f53a3a",
   "metadata": {},
   "outputs": [
    {
     "name": "stdout",
     "output_type": "stream",
     "text": [
      "sample mean height: 68.16, sample std height: 2.10\n"
     ]
    }
   ],
   "source": [
    "print(f\"sample mean height: {sample_mean_height:.2f}, sample std height: {sample_std_height:.2f}\")\n"
   ]
  },
  {
   "cell_type": "markdown",
   "id": "46a56bbf",
   "metadata": {},
   "source": [
    "## 📏 Confidence Interval (CI)\n",
    "\n",
    "A **Confidence Interval (CI)** is a range of values that is likely to contain the **true population parameter** (e.g., mean) with a certain level of confidence.\n",
    "\n",
    "### 1️⃣ Concept\n",
    "- Example: 95% CI for mean height  \n",
    "- Interpretation:  \n",
    "  > \"We are 95% confident that the true population mean height lies between the lower and upper bounds of this interval.\"\n",
    "\n",
    "### 2️⃣ Formula (when population std is unknown, small sample → use t-distribution)\n",
    "The **t-distribution formula** for CI is:\n",
    "\n",
    "$$\n",
    "CI = \\bar{x} \\pm t_{\\alpha/2, n-1} \\cdot \\frac{s}{\\sqrt{n}}\n",
    "$$\n",
    "\n",
    "Where:  \n",
    "- $\\bar{x}$ = Sample mean  \n",
    "- $s$ = Sample standard deviation  \n",
    "- $n$ = Sample size  \n",
    "- $t_{\\alpha/2, n-1}$ = Critical t-value from t-distribution  \n",
    "\n",
    "---\n",
    "\n",
    "### 3️⃣ Formula (when population std is known, large sample → use z-distribution)\n",
    "The **z-distribution formula** for CI is:\n",
    "\n",
    "$$\n",
    "CI = \\bar{x} \\pm Z_{\\alpha/2} \\cdot \\frac{\\sigma}{\\sqrt{n}}\n",
    "$$\n",
    "\n",
    "Where:  \n",
    "- $\\sigma$ = Population standard deviation  \n",
    "- $Z_{\\alpha/2}$ = Critical Z-value from standard normal distribution  \n",
    "\n",
    "---\n",
    "\n",
    "### 4️⃣ Key Points\n",
    "- **Confidence Level:** Commonly 90%, 95%, or 99%  \n",
    "- **Effect of Sample Size:** Larger sample → narrower CI  \n",
    "- **Interpretation:** CI gives a **range of plausible values** for the population mean, not a probability for a single sample  \n",
    "\n",
    "> ⚡ **Tip:** The wider the interval, the more uncertainty about the population mean; increasing sample size reduces uncertainty.\n"
   ]
  },
  {
   "cell_type": "markdown",
   "id": "688e4658",
   "metadata": {},
   "source": [
    "## 📊 Z-Test: Confidence Interval & Interpretation\n",
    "\n",
    "We performed a **Z-test** to compare the sample mean with the known population mean.  \n",
    "The **95% Confidence Interval (CI)** for the sample mean is calculated as:\n",
    "\n",
    "$$\n",
    "CI = \\bar{x} \\pm Z_{\\alpha/2} \\cdot \\frac{\\sigma}{\\sqrt{n}}\n",
    "$$\n",
    "\n",
    "### 1️⃣ Observed Values\n",
    "- Sample Mean ($\\bar{x}$):  `sample_mean`  \n",
    "- Population Std ($\\sigma$): `pop_std`  \n",
    "- Sample Size (n): `sample_size`  \n",
    "- Z critical value ($Z_{\\alpha/2}$): 1.96 for 95% CI  \n",
    "\n",
    "### 2️⃣ Calculated Confidence Interval\n",
    "- Lower Bound: `ci_lower`  \n",
    "- Upper Bound: `ci_upper`  \n",
    "\n",
    "### 3️⃣ Interpretation\n",
    "> \"We are 95% confident that the **true population mean height** lies between **ci_lower** and **ci_upper**.  \n",
    "> Since the population mean (pop_mean) lies within this interval, the sample is consistent with the population.\"\n"
   ]
  },
  {
   "cell_type": "code",
   "execution_count": 56,
   "id": "50909995",
   "metadata": {},
   "outputs": [],
   "source": [
    "def Z_test(sample_mean, pop_std, sample_size, confidenece_level):\n",
    "    margin = confidenece_level * (pop_std / np.sqrt(sample_size))\n",
    "    upper_limit = sample_mean + margin\n",
    "    lower_limit = sample_mean - margin\n",
    "    return upper_limit, lower_limit\n",
    "\n",
    "\n",
    "ci_upper, ci_lower = Z_test(sample['Height(Inches)'].mean(), pop_std_height, len(sample), 1.96)\n",
    "\n",
    "    "
   ]
  },
  {
   "cell_type": "code",
   "execution_count": 57,
   "id": "651d6c05",
   "metadata": {},
   "outputs": [
    {
     "data": {
      "text/plain": [
       "<matplotlib.legend.Legend at 0x2320cf87f90>"
      ]
     },
     "execution_count": 57,
     "metadata": {},
     "output_type": "execute_result"
    },
    {
     "data": {
      "image/png": "[encoded data removed]",
      "text/plain": [
       "<Figure size 1000x500 with 1 Axes>"
      ]
     },
     "metadata": {},
     "output_type": "display_data"
    }
   ],
   "source": [
    "plt.figure(figsize=(10,5))\n",
    "plt.hist(data['Height(Inches)'], bins=50, color='skyblue', alpha=0.6, edgecolor='black',label='Population', density=True)\n",
    "plt.hist(sample['Height(Inches)'], bins=20, color='salmon', alpha=0.7, edgecolor='black',label='Sample', density=True)\n",
    "plt.axvline(sample_mean_height, color='blue', linestyle='--', linewidth=2, label=f'Sample Mean: {sample_mean_height:.2f}')\n",
    "plt.axvline(ci_lower, color='green', linestyle='--', linewidth=2, label=f'CI Lower: {ci_lower:.2f}')\n",
    "plt.axvline(ci_upper, color='red', linestyle='--', linewidth=2, label=f'CI Upper: {ci_upper:.2f}')\n",
    "plt.xlabel(\"Height (inches)\")\n",
    "plt.ylabel(\"Frequency\")\n",
    "plt.legend()\n",
    "plt.tight_layout()\n",
    "plt.legend()"
   ]
  },
  {
   "cell_type": "code",
   "execution_count": 58,
   "id": "c99bd6a6",
   "metadata": {},
   "outputs": [],
   "source": [
    "def Z_test(sample_mean, sample_std, sample_size, confidenece_level):\n",
    "    margin = confidenece_level * (sample_std / np.sqrt(sample_size))\n",
    "    upper_limit = sample_mean + margin\n",
    "    lower_limit = sample_mean - margin\n",
    "    return upper_limit, lower_limit\n",
    "\n",
    "\n",
    "ci_upper, ci_lower = Z_test(sample['Height(Inches)'].mean(), sample_std_height, len(sample), 1.96)"
   ]
  },
  {
   "cell_type": "markdown",
   "id": "4df2bc74",
   "metadata": {},
   "source": [
    "## 📊 Z-Test: 95% Confidence Interval\n",
    "\n",
    "Below is the comparison between **population** and **sample distribution**, along with the **95% Confidence Interval (CI)** for the sample mean.\n",
    "\n",
    "---\n",
    "\n",
    "### 📈 Visualization\n",
    "\n",
    "<img src=\"../output.png\" alt=\"Z-Test CI Plot\" width=\"700\"/>\n",
    "\n",
    "---\n",
    "\n",
    "### 🧮 Key Statistics\n",
    "\n",
    "| Statistic | Symbol | Value |\n",
    "|------------|:--------:|-------:|\n",
    "| Population Mean | μ | 70.00 |\n",
    "| Population Std Dev | σ | 14.98 |\n",
    "| Sample Size | n | 100 |\n",
    "| Sample Mean | 𝑥̄ | 68.97 |\n",
    "| Standard Error | SE | 1.50 |\n",
    "| Z Critical Value (95%) | Z<sub>α/2</sub> | 1.96 |\n",
    "| CI Lower Bound | — | 66.04 |\n",
    "| CI Upper Bound | — | 71.91 |\n",
    "\n",
    "---\n",
    "\n",
    "### 🧠 Interpretation\n",
    "\n",
    "> We are **95% confident** that the **true population mean weight** lies between  \n",
    "> **66.04 kg** and **71.91 kg**.  \n",
    ">  \n",
    "> Since the known population mean (70 kg) lies **within this interval**,  \n",
    "> our **sample is consistent** with the population distribution.\n",
    "\n",
    "---\n",
    "\n",
    "### ⚡ Formula Used\n",
    "\n",
    "$$\n",
    "CI = \\bar{x} \\pm Z_{\\alpha/2} \\cdot \\frac{\\sigma}{\\sqrt{n}}\n",
    "$$\n"
   ]
  },
  {
   "cell_type": "code",
   "execution_count": null,
   "id": "523cc62f",
   "metadata": {},
   "outputs": [],
   "source": []
  }
 ],
 "metadata": {
  "kernelspec": {
   "display_name": "base",
   "language": "python",
   "name": "python3"
  },
  "language_info": {
   "codemirror_mode": {
    "name": "ipython",
    "version": 3
   },
   "file_extension": ".py",
   "mimetype": "text/x-python",
   "name": "python",
   "nbconvert_exporter": "python",
   "pygments_lexer": "ipython3",
   "version": "3.11.11"
  }
 },
 "nbformat": 4,
 "nbformat_minor": 5
}
