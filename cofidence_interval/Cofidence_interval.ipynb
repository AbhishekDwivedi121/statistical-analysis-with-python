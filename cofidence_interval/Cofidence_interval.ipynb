{
 "cells": [
  {
   "cell_type": "markdown",
   "id": "e90bc2d4",
   "metadata": {},
   "source": [
    "## Introduction\n",
    "In this notebook, we treat a dataset of 25,000 people's Height and Weight as the population.  \n",
    "We will:\n",
    "- Explore the population statistics\n",
    "- Draw random samples\n",
    "- Demonstrate Central Limit Theorem\n",
    "- Perform Z-test & T-test\n",
    "- Visualize results"
   ]
  },
  {
   "cell_type": "markdown",
   "id": "0ab03a3b",
   "metadata": {},
   "source": [
    "## 📏 Confidence Interval (CI)\n",
    "\n",
    "A **Confidence Interval (CI)** is a range of values that is likely to contain the **true population mean** with a given level of confidence.  \n",
    "Example: For a 95% CI —  \n",
    "> “We are 95% confident that the true mean lies within this interval.”\n",
    "\n",
    "---\n",
    "\n",
    "## 📐 Now We Will Work on Height\n",
    "We will calculate the **Confidence Interval (CI)** for **height** using both **t-test** and **z-test** methods.\n",
    "\n",
    "---\n",
    "\n",
    "### 🔹 t-distribution (when population std. is unknown)\n",
    "\n",
    "$$\n",
    "CI = \\bar{x} \\pm t_{\\alpha/2, n-1} \\cdot \\frac{s}{\\sqrt{n}}\n",
    "$$\n",
    "\n",
    "---\n",
    "\n",
    "### 🔹 z-distribution (when population std. is known)\n",
    "\n",
    "$$\n",
    "CI = \\bar{x} \\pm Z_{\\alpha/2} \\cdot \\frac{\\sigma}{\\sqrt{n}}\n",
    "$$\n",
    "\n",
    "---\n",
    "\n",
    "These formulas will be used to calculate the CI for height in our analysis.\n"
   ]
  },
  {
   "cell_type": "code",
   "execution_count": 32,
   "id": "b6b6b31b",
   "metadata": {},
   "outputs": [],
   "source": [
    "import pandas as pd\n",
    "import numpy as np\n",
    "import matplotlib.pyplot as plt"
   ]
  },
  {
   "cell_type": "code",
   "execution_count": 33,
   "id": "55472169",
   "metadata": {},
   "outputs": [],
   "source": [
    "data = pd.read_csv('SOCR-HeightWeight.csv')\n"
   ]
  },
  {
   "cell_type": "code",
   "execution_count": 34,
   "id": "3c85efd4",
   "metadata": {},
   "outputs": [
    {
     "data": {
      "text/html": [
       "<div>\n",
       "<style scoped>\n",
       "    .dataframe tbody tr th:only-of-type {\n",
       "        vertical-align: middle;\n",
       "    }\n",
       "\n",
       "    .dataframe tbody tr th {\n",
       "        vertical-align: top;\n",
       "    }\n",
       "\n",
       "    .dataframe thead th {\n",
       "        text-align: right;\n",
       "    }\n",
       "</style>\n",
       "<table border=\"1\" class=\"dataframe\">\n",
       "  <thead>\n",
       "    <tr style=\"text-align: right;\">\n",
       "      <th></th>\n",
       "      <th>Index</th>\n",
       "      <th>Height(Inches)</th>\n",
       "      <th>Weight(Pounds)</th>\n",
       "    </tr>\n",
       "  </thead>\n",
       "  <tbody>\n",
       "    <tr>\n",
       "      <th>0</th>\n",
       "      <td>1</td>\n",
       "      <td>65.78331</td>\n",
       "      <td>112.9925</td>\n",
       "    </tr>\n",
       "    <tr>\n",
       "      <th>1</th>\n",
       "      <td>2</td>\n",
       "      <td>71.51521</td>\n",
       "      <td>136.4873</td>\n",
       "    </tr>\n",
       "    <tr>\n",
       "      <th>2</th>\n",
       "      <td>3</td>\n",
       "      <td>69.39874</td>\n",
       "      <td>153.0269</td>\n",
       "    </tr>\n",
       "    <tr>\n",
       "      <th>3</th>\n",
       "      <td>4</td>\n",
       "      <td>68.21660</td>\n",
       "      <td>142.3354</td>\n",
       "    </tr>\n",
       "    <tr>\n",
       "      <th>4</th>\n",
       "      <td>5</td>\n",
       "      <td>67.78781</td>\n",
       "      <td>144.2971</td>\n",
       "    </tr>\n",
       "  </tbody>\n",
       "</table>\n",
       "</div>"
      ],
      "text/plain": [
       "   Index  Height(Inches)  Weight(Pounds)\n",
       "0      1        65.78331        112.9925\n",
       "1      2        71.51521        136.4873\n",
       "2      3        69.39874        153.0269\n",
       "3      4        68.21660        142.3354\n",
       "4      5        67.78781        144.2971"
      ]
     },
     "execution_count": 34,
     "metadata": {},
     "output_type": "execute_result"
    }
   ],
   "source": [
    "data.head()\n"
   ]
  },
  {
   "cell_type": "code",
   "execution_count": 35,
   "id": "c83eb31d",
   "metadata": {},
   "outputs": [
    {
     "data": {
      "text/html": [
       "<div>\n",
       "<style scoped>\n",
       "    .dataframe tbody tr th:only-of-type {\n",
       "        vertical-align: middle;\n",
       "    }\n",
       "\n",
       "    .dataframe tbody tr th {\n",
       "        vertical-align: top;\n",
       "    }\n",
       "\n",
       "    .dataframe thead th {\n",
       "        text-align: right;\n",
       "    }\n",
       "</style>\n",
       "<table border=\"1\" class=\"dataframe\">\n",
       "  <thead>\n",
       "    <tr style=\"text-align: right;\">\n",
       "      <th></th>\n",
       "      <th>Index</th>\n",
       "      <th>Height(Inches)</th>\n",
       "      <th>Weight(Pounds)</th>\n",
       "    </tr>\n",
       "  </thead>\n",
       "  <tbody>\n",
       "    <tr>\n",
       "      <th>count</th>\n",
       "      <td>25000.000000</td>\n",
       "      <td>25000.000000</td>\n",
       "      <td>25000.000000</td>\n",
       "    </tr>\n",
       "    <tr>\n",
       "      <th>mean</th>\n",
       "      <td>12500.500000</td>\n",
       "      <td>67.993114</td>\n",
       "      <td>127.079421</td>\n",
       "    </tr>\n",
       "    <tr>\n",
       "      <th>std</th>\n",
       "      <td>7217.022701</td>\n",
       "      <td>1.901679</td>\n",
       "      <td>11.660898</td>\n",
       "    </tr>\n",
       "    <tr>\n",
       "      <th>min</th>\n",
       "      <td>1.000000</td>\n",
       "      <td>60.278360</td>\n",
       "      <td>78.014760</td>\n",
       "    </tr>\n",
       "    <tr>\n",
       "      <th>25%</th>\n",
       "      <td>6250.750000</td>\n",
       "      <td>66.704397</td>\n",
       "      <td>119.308675</td>\n",
       "    </tr>\n",
       "    <tr>\n",
       "      <th>50%</th>\n",
       "      <td>12500.500000</td>\n",
       "      <td>67.995700</td>\n",
       "      <td>127.157750</td>\n",
       "    </tr>\n",
       "    <tr>\n",
       "      <th>75%</th>\n",
       "      <td>18750.250000</td>\n",
       "      <td>69.272958</td>\n",
       "      <td>134.892850</td>\n",
       "    </tr>\n",
       "    <tr>\n",
       "      <th>max</th>\n",
       "      <td>25000.000000</td>\n",
       "      <td>75.152800</td>\n",
       "      <td>170.924000</td>\n",
       "    </tr>\n",
       "  </tbody>\n",
       "</table>\n",
       "</div>"
      ],
      "text/plain": [
       "              Index  Height(Inches)  Weight(Pounds)\n",
       "count  25000.000000    25000.000000    25000.000000\n",
       "mean   12500.500000       67.993114      127.079421\n",
       "std     7217.022701        1.901679       11.660898\n",
       "min        1.000000       60.278360       78.014760\n",
       "25%     6250.750000       66.704397      119.308675\n",
       "50%    12500.500000       67.995700      127.157750\n",
       "75%    18750.250000       69.272958      134.892850\n",
       "max    25000.000000       75.152800      170.924000"
      ]
     },
     "execution_count": 35,
     "metadata": {},
     "output_type": "execute_result"
    }
   ],
   "source": [
    "data.describe()"
   ]
  },
  {
   "cell_type": "code",
   "execution_count": 36,
   "id": "09a1115e",
   "metadata": {},
   "outputs": [
    {
     "name": "stdout",
     "output_type": "stream",
     "text": [
      "pop_mean 67.99311359679999 pop_std 1.901678771205604\n",
      "sample_mean 68.1585185 sample_std 2.0986905592563834\n"
     ]
    }
   ],
   "source": [
    "pop_heigh = data['Height(Inches)']\n",
    "sample_heigh = data['Height(Inches)'].sample(100,random_state=42)\n",
    "print(\"pop_mean\", pop_heigh.mean(), \"pop_std\", pop_heigh.std())\n",
    "print(\"sample_mean\", sample_heigh.mean(), \"sample_std\", sample_heigh.std())"
   ]
  },
  {
   "cell_type": "markdown",
   "id": "622a857c",
   "metadata": {},
   "source": [
    "## 📊 Z-Test for Height & Weight\n",
    "\n",
    "We are performing a **z-test** to calculate the **confidence interval (CI)** for height.  \n",
    "\n",
    "We refer to a **z-table** to find the critical z-value for our confidence level.  \n",
    "\n",
    "- For a **95% confidence interval** (two-tailed):  \n",
    "  - α = 1 − 0.95 = 0.05  \n",
    "  - Split into two tails → α/2 = 0.025  \n",
    "\n",
    "- Using the **z-table image**, we see:  \n",
    "  - The cumulative probability corresponding to **z = 1.96** is **0.975 (97.5%)**  \n",
    "  - This is exactly what we need for a **95% CI** (because 2.5% is left in the upper tail)\n",
    "\n",
    "✅ **Conclusion:**  \n",
    "- Positive z-value for 95% CI = **+1.96**  \n",
    "- Negative z-value = **−1.96**  \n",
    "- This gives the **range of heights** that contains 95% of the population mean with confidence.\n",
    "\n",
    "---\n",
    "\n",
    "### 🖼 Z-Table Reference\n",
    "![Z-Table](./img/positiveztable.png)\n"
   ]
  },
  {
   "cell_type": "code",
   "execution_count": 37,
   "id": "e968f216",
   "metadata": {},
   "outputs": [
    {
     "name": "stdout",
     "output_type": "stream",
     "text": [
      "CI (67.7857894608437, 68.5312475391563)\n",
      "pop_Mean 67.99311359679999\n"
     ]
    }
   ],
   "source": [
    "# Z Tets for Height\n",
    "def Z_test(sample_size, pop_std, confidence_level, sample_mean):\n",
    "    margin = confidence_level * (pop_std / np.sqrt(sample_size))\n",
    "    upper = sample_mean + margin\n",
    "    lower = sample_mean - margin\n",
    "    return lower, upper\n",
    "\n",
    "print(\"CI\", Z_test(sample_size=len(sample_heigh), pop_std=pop_heigh.std(), confidence_level=1.96, sample_mean = sample_heigh.mean()))\n",
    "print(\"pop_Mean\", pop_heigh.mean())"
   ]
  },
  {
   "cell_type": "code",
   "execution_count": 38,
   "id": "c4563137",
   "metadata": {},
   "outputs": [],
   "source": [
    "lower, upper = Z_test(sample_size=len(sample_heigh), pop_std=pop_heigh.std(), confidence_level=1.96, sample_mean = sample_heigh.mean())"
   ]
  },
  {
   "cell_type": "code",
   "execution_count": 39,
   "id": "6dbe7242",
   "metadata": {},
   "outputs": [
    {
     "data": {
      "text/plain": [
       "<matplotlib.legend.Legend at 0x1fee0ec8f50>"
      ]
     },
     "execution_count": 39,
     "metadata": {},
     "output_type": "execute_result"
    },
    {
     "data": {
      "image/png": "[encoded data removed]",
      "text/plain": [
       "<Figure size 640x480 with 1 Axes>"
      ]
     },
     "metadata": {},
     "output_type": "display_data"
    }
   ],
   "source": [
    "plt.hist(pop_heigh, bins=50, color='skyblue', alpha=0.8, edgecolor = 'black', label='pop height', density=True)\n",
    "plt.hist(sample_heigh, bins=20, color='salmon', alpha=0.5, edgecolor = 'black', label='sample height', density=True)\n",
    "plt.axvline(sample_heigh.mean(), color='black', linestyle = '--', linewidth=2.5, label= 'sample_mean')\n",
    "plt.axvline(lower, color='red', linestyle = '--', linewidth=2.5, label= 'ci_upper')\n",
    "plt.axvline(upper, color='green', linestyle = '--', linewidth=2.5, label= 'ci_lower')\n",
    "plt.legend()"
   ]
  },
  {
   "cell_type": "code",
   "execution_count": 40,
   "id": "76ecd284",
   "metadata": {},
   "outputs": [
    {
     "name": "stdout",
     "output_type": "stream",
     "text": [
      "CI for weight (126.93487117701746, 127.22397114458256)\n",
      "pop mean for weights 127.07942116080001\n"
     ]
    }
   ],
   "source": [
    "# for weights\n",
    "pop_weight = data['Weight(Pounds)']\n",
    "sample_weight = data['Weight(Pounds)']\n",
    "\n",
    "print(\"CI for weight\", Z_test(sample_mean=sample_weight.mean(), sample_size=len(sample_weight),pop_std=pop_weight.std(), confidence_level=1.96))\n",
    "print(\"pop mean for weights\", pop_weight.mean())"
   ]
  },
  {
   "cell_type": "code",
   "execution_count": 41,
   "id": "6c946a7c",
   "metadata": {},
   "outputs": [],
   "source": [
    "lower, upper = Z_test(sample_mean=sample_weight.mean(), sample_size=len(sample_weight),pop_std=pop_weight.std(), confidence_level=1.96)"
   ]
  },
  {
   "cell_type": "code",
   "execution_count": 42,
   "id": "eaca5b5d",
   "metadata": {},
   "outputs": [
    {
     "data": {
      "text/plain": [
       "<matplotlib.legend.Legend at 0x1fee3774710>"
      ]
     },
     "execution_count": 42,
     "metadata": {},
     "output_type": "execute_result"
    },
    {
     "data": {
      "image/png": "[encoded data removed]",
      "text/plain": [
       "<Figure size 1000x500 with 1 Axes>"
      ]
     },
     "metadata": {},
     "output_type": "display_data"
    }
   ],
   "source": [
    "plt.figure(figsize=(10,5))\n",
    "plt.hist(pop_weight, bins=20, color='skyblue', alpha=0.8, edgecolor = 'black', label='pop weight', density=True)\n",
    "plt.hist(sample_weight, bins=5, color='salmon', alpha=0.5, edgecolor = 'black', label='sample weight', density=True)\n",
    "plt.axvline(sample_weight.mean(), color='black', linestyle = '--', linewidth=2, label= 'sample_mean')\n",
    "plt.axvline(lower, color='red', linestyle = '--', linewidth=2, label= 'ci_upper')\n",
    "plt.axvline(upper, color='green', linestyle = '--', linewidth=2, label= 'ci_lower')\n",
    "plt.legend()"
   ]
  },
  {
   "cell_type": "markdown",
   "id": "5eac98df",
   "metadata": {},
   "source": [
    "## 📊 T-Test for Height & Weight\n",
    "\n",
    "We are performing a **t-test** to calculate the **confidence interval (CI)** when the **population standard deviation is unknown** or for a **small sample**.  \n",
    "\n",
    "- For a **95% confidence interval** (two-tailed):  \n",
    "  - α = 1 − 0.95 = 0.05  \n",
    "  - Split into two tails → α/2 = 0.025  \n",
    "- Using the **t-table**, we see:  \n",
    "  - The critical t-value depends on **degrees of freedom (df = n − 1)**  \n",
    "  - Example: For a sample of 20 → df = 19 → t ≈ 2.093  \n",
    "\n",
    "✅ **Conclusion:**  \n",
    "- Positive t-value for 95% CI = **+2.093**  \n",
    "- Negative t-value = **−2.093**  \n",
    "- This gives the **range around the sample mean** where the true population mean is likely to lie.  \n",
    "\n",
    "---\n",
    "\n",
    "### 🖼 T-Table Reference\n",
    "![T-Table](./img/t-table_page-0001.jpg)\n"
   ]
  },
  {
   "cell_type": "code",
   "execution_count": 43,
   "id": "4571b7b3",
   "metadata": {},
   "outputs": [
    {
     "name": "stdout",
     "output_type": "stream",
     "text": [
      "t-critical value: 1.9842169515086827\n"
     ]
    }
   ],
   "source": [
    "from scipy import stats\n",
    "\n",
    "# Degrees of freedom\n",
    "df = 99  \n",
    "\n",
    "# Confidence level\n",
    "confidence = 0.95  \n",
    "\n",
    "# alpha/2 for two-tailed test\n",
    "alpha = 1 - confidence\n",
    "alpha_2 = alpha / 2\n",
    "\n",
    "# Compute t-critical value\n",
    "# We use code because 99 df is not usually listed in standard t-tables\n",
    "t_critical = stats.t.ppf(1 - alpha_2, df)\n",
    "\n",
    "print(\"t-critical value:\", t_critical)\n"
   ]
  },
  {
   "cell_type": "code",
   "execution_count": 44,
   "id": "705d58e5",
   "metadata": {},
   "outputs": [],
   "source": [
    "# T-test for Height\n",
    "def T_test(sample_size, sample_mean, sample_std, confidence_level):\n",
    "    margin = confidence_level * (sample_std / np.sqrt(sample_size))\n",
    "    lower = sample_mean - margin\n",
    "    upper = sample_mean + margin\n",
    "    return lower, upper\n",
    "    "
   ]
  },
  {
   "cell_type": "code",
   "execution_count": 45,
   "id": "e5249cff",
   "metadata": {},
   "outputs": [
    {
     "data": {
      "text/plain": [
       "(67.74297776926724, 68.57405923073276)"
      ]
     },
     "execution_count": 45,
     "metadata": {},
     "output_type": "execute_result"
    }
   ],
   "source": [
    "T_test(sample_size=len(sample_heigh), sample_mean=sample_heigh.mean(), sample_std=sample_heigh.std(), confidence_level=1.98)"
   ]
  },
  {
   "cell_type": "code",
   "execution_count": 46,
   "id": "fa8ac4ac",
   "metadata": {},
   "outputs": [
    {
     "data": {
      "text/plain": [
       "67.99311359679999"
      ]
     },
     "execution_count": 46,
     "metadata": {},
     "output_type": "execute_result"
    }
   ],
   "source": [
    "pop_heigh.mean()"
   ]
  },
  {
   "cell_type": "code",
   "execution_count": 47,
   "id": "dea14932",
   "metadata": {},
   "outputs": [
    {
     "name": "stdout",
     "output_type": "stream",
     "text": [
      "(126.93339617718293, 127.22544614441709)\n"
     ]
    }
   ],
   "source": [
    "# T-test for weight\n",
    "print(T_test(sample_size=len(sample_weight), sample_mean=sample_weight.mean(), sample_std=sample_weight.std(), confidence_level=1.98))"
   ]
  },
  {
   "cell_type": "code",
   "execution_count": 48,
   "id": "0db93eb9",
   "metadata": {},
   "outputs": [
    {
     "data": {
      "text/plain": [
       "127.07942116080001"
      ]
     },
     "execution_count": 48,
     "metadata": {},
     "output_type": "execute_result"
    }
   ],
   "source": [
    "pop_weight.mean()"
   ]
  },
  {
   "cell_type": "code",
   "execution_count": 56,
   "id": "cb42201c",
   "metadata": {},
   "outputs": [
    {
     "data": {
      "text/html": [
       "<div>\n",
       "<style scoped>\n",
       "    .dataframe tbody tr th:only-of-type {\n",
       "        vertical-align: middle;\n",
       "    }\n",
       "\n",
       "    .dataframe tbody tr th {\n",
       "        vertical-align: top;\n",
       "    }\n",
       "\n",
       "    .dataframe thead th {\n",
       "        text-align: right;\n",
       "    }\n",
       "</style>\n",
       "<table border=\"1\" class=\"dataframe\">\n",
       "  <thead>\n",
       "    <tr style=\"text-align: right;\">\n",
       "      <th></th>\n",
       "      <th>variavle</th>\n",
       "      <th>Population Mean</th>\n",
       "      <th>Sample Mean</th>\n",
       "      <th>CI for Lower (Z)</th>\n",
       "      <th>CI for Upper (Z)</th>\n",
       "      <th>CI for Lower (T)</th>\n",
       "      <th>CI for Upper (T)</th>\n",
       "    </tr>\n",
       "  </thead>\n",
       "  <tbody>\n",
       "    <tr>\n",
       "      <th>0</th>\n",
       "      <td>weight</td>\n",
       "      <td>127.079421</td>\n",
       "      <td>127.079421</td>\n",
       "      <td>126.934871</td>\n",
       "      <td>127.223971</td>\n",
       "      <td>126.933396</td>\n",
       "      <td>127.225446</td>\n",
       "    </tr>\n",
       "    <tr>\n",
       "      <th>1</th>\n",
       "      <td>height</td>\n",
       "      <td>67.993114</td>\n",
       "      <td>68.158518</td>\n",
       "      <td>67.785789</td>\n",
       "      <td>68.531248</td>\n",
       "      <td>67.742978</td>\n",
       "      <td>68.574059</td>\n",
       "    </tr>\n",
       "  </tbody>\n",
       "</table>\n",
       "</div>"
      ],
      "text/plain": [
       "  variavle  Population Mean  Sample Mean  CI for Lower (Z)  CI for Upper (Z)  \\\n",
       "0   weight       127.079421   127.079421        126.934871        127.223971   \n",
       "1   height        67.993114    68.158518         67.785789         68.531248   \n",
       "\n",
       "   CI for Lower (T)  CI for Upper (T)  \n",
       "0        126.933396        127.225446  \n",
       "1         67.742978         68.574059  "
      ]
     },
     "execution_count": 56,
     "metadata": {},
     "output_type": "execute_result"
    }
   ],
   "source": [
    "df = {'variavle':['weight', 'height'],\n",
    "      'Population Mean':[pop_weight.mean(), pop_heigh.mean()],\n",
    "      'Sample Mean':[sample_weight.mean(), sample_heigh.mean()],\n",
    "      'CI for Lower (Z)':[Z_test(sample_size=len(sample_weight), pop_std=pop_weight.std(), confidence_level=1.96, sample_mean = sample_weight.mean())[0]   ,Z_test(sample_size=len(sample_heigh), pop_std=pop_heigh.std(), confidence_level=1.96, sample_mean = sample_heigh.mean())[0]],\n",
    "      'CI for Upper (Z)':[Z_test(sample_size=len(sample_weight), pop_std=pop_weight.std(), confidence_level=1.96, sample_mean = sample_weight.mean())[1]   ,Z_test(sample_size=len(sample_heigh), pop_std=pop_heigh.std(), confidence_level=1.96, sample_mean = sample_heigh.mean())[1]],\n",
    "      'CI for Lower (T)':[T_test(sample_size=len(sample_weight), sample_mean=sample_weight.mean(), sample_std=sample_weight.std(), confidence_level=1.98)[0], T_test(sample_size=len(sample_heigh), sample_mean=sample_heigh.mean(), sample_std=sample_heigh.std(), confidence_level=1.98)[0]],\n",
    "      'CI for Upper (T)':[T_test(sample_size=len(sample_weight), sample_mean=sample_weight.mean(), sample_std=sample_weight.std(), confidence_level=1.98)[1], T_test(sample_size=len(sample_heigh), sample_mean=sample_heigh.mean(), sample_std=sample_heigh.std(), confidence_level=1.98)[1]]\n",
    "      }\n",
    "\n",
    "pd.DataFrame(df)"
   ]
  }
 ],
 "metadata": {
  "kernelspec": {
   "display_name": "base",
   "language": "python",
   "name": "python3"
  },
  "language_info": {
   "codemirror_mode": {
    "name": "ipython",
    "version": 3
   },
   "file_extension": ".py",
   "mimetype": "text/x-python",
   "name": "python",
   "nbconvert_exporter": "python",
   "pygments_lexer": "ipython3",
   "version": "3.11.11"
  }
 },
 "nbformat": 4,
 "nbformat_minor": 5
}
